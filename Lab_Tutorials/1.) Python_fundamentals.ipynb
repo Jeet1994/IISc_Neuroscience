{
 "cells": [
  {
   "cell_type": "markdown",
   "metadata": {
    "slideshow": {
     "slide_type": "slide"
    }
   },
   "source": [
    "# <img src=\"https://upload.wikimedia.org/wikipedia/commons/thumb/c/c3/Python-logo-notext.svg/1024px-Python-logo-notext.svg.png\" width=\"48\"> Fundamentals of programming in Python"
   ]
  },
  {
   "cell_type": "markdown",
   "metadata": {
    "slideshow": {
     "slide_type": "slide"
    }
   },
   "source": [
    "### A programmer's lament (BSD Fortune File)"
   ]
  },
  {
   "cell_type": "markdown",
   "metadata": {
    "slideshow": {
     "slide_type": "fragment"
    }
   },
   "source": [
    "> *\"I really hate this damned machine  \n",
    "> I wish that they would sell it.  \n",
    "> It never does quite what I want  \n",
    "> But only what I tell it.\"*  "
   ]
  },
  {
   "cell_type": "markdown",
   "metadata": {
    "slideshow": {
     "slide_type": "fragment"
    }
   },
   "source": [
    "* Python was designed and is maintained by Guido Van Rossum\n",
    "* It is named Monty Python's Flying Circus"
   ]
  },
  {
   "cell_type": "markdown",
   "metadata": {
    "slideshow": {
     "slide_type": "slide"
    }
   },
   "source": [
    "## Why Python?"
   ]
  },
  {
   "cell_type": "markdown",
   "metadata": {
    "slideshow": {
     "slide_type": "fragment"
    }
   },
   "source": [
    "![Popularity of programming languages - 2016](http://static1.squarespace.com/static/51361f2fe4b0f24e710af7ae/t/56b1187d4c2f85efc5598bb1/1454446752995/?format=750w \"Popularity of programming languages - 2016\")"
   ]
  },
  {
   "cell_type": "markdown",
   "metadata": {
    "slideshow": {
     "slide_type": "subslide"
    }
   },
   "source": [
    "### Pros of using Python"
   ]
  },
  {
   "cell_type": "markdown",
   "metadata": {
    "slideshow": {
     "slide_type": "fragment"
    }
   },
   "source": [
    "* **Simple syntax**: Quick and easy to learn.\n",
    "* **Beautiful**: It is designed to be optimized for readability\n",
    "* **Work less, produce more**: Good libraries of functions let you compose programs with less code.\n",
    "* **Flexible**: Many different ways to design your programs (procedural, functional, object oriented programming).\n",
    "* **Cross platform**: You can run the same code on Linux, Mac, Windows and any other OS with Python installed.\n",
    "* **Free**: (As in speech, and as in beer.)"
   ]
  },
  {
   "cell_type": "markdown",
   "metadata": {
    "slideshow": {
     "slide_type": "subslide"
    }
   },
   "source": [
    "### Cons of using Python"
   ]
  },
  {
   "cell_type": "markdown",
   "metadata": {
    "slideshow": {
     "slide_type": "fragment"
    }
   },
   "source": [
    "* **You still have to write code.** It is a general purpose programming language, not an application.\n",
    "* **RTFM**: No customer support like MATLAB (but a large community support).\n",
    "* **Slow**: but you can use a library/C/FORTRAN code for time critical stuff.\n",
    "* **Very specialized tools have no simple substitute (yet!)**: R for statistics."
   ]
  },
  {
   "cell_type": "markdown",
   "metadata": {
    "slideshow": {
     "slide_type": "slide"
    }
   },
   "source": [
    "## Python can be used interactively or in batch mode."
   ]
  },
  {
   "cell_type": "markdown",
   "metadata": {
    "slideshow": {
     "slide_type": "subslide"
    }
   },
   "source": [
    "### Interactive mode:"
   ]
  },
  {
   "cell_type": "markdown",
   "metadata": {
    "slideshow": {
     "slide_type": "fragment"
    }
   },
   "source": [
    "Start spyder/jupyter-notebook and type the examples below in the Python console (bottom right)."
   ]
  },
  {
   "cell_type": "code",
   "execution_count": null,
   "metadata": {
    "collapsed": false,
    "slideshow": {
     "slide_type": "fragment"
    }
   },
   "outputs": [],
   "source": [
    "print ('Hello Peeps!') #we are using print as a function here and hence the use of ()\n",
    "# This is how you put a comment!"
   ]
  },
  {
   "cell_type": "markdown",
   "metadata": {
    "slideshow": {
     "slide_type": "fragment"
    }
   },
   "source": [
    "### Batch mode:"
   ]
  },
  {
   "cell_type": "markdown",
   "metadata": {
    "slideshow": {
     "slide_type": "fragment"
    }
   },
   "source": [
    "1. Write the same text above in a file using gedit or any text editor on your system.\n",
    "2. Save the file as myFirstPythonFile.py .\n",
    "3. Go to terminal and type: `python myFirstPythonFile.py`."
   ]
  },
  {
   "cell_type": "markdown",
   "metadata": {
    "slideshow": {
     "slide_type": "slide"
    }
   },
   "source": [
    "## Assigning variables: Think of them as boxes with labels containing values"
   ]
  },
  {
   "cell_type": "code",
   "execution_count": null,
   "metadata": {
    "collapsed": false,
    "slideshow": {
     "slide_type": "fragment"
    }
   },
   "outputs": [],
   "source": [
    "a = 3 # Integer\n",
    "print (a) # Parentheses for print statements, compulsary in Python 3!"
   ]
  },
  {
   "cell_type": "code",
   "execution_count": null,
   "metadata": {
    "collapsed": false,
    "slideshow": {
     "slide_type": "fragment"
    }
   },
   "outputs": [],
   "source": [
    "greeting = 'Hello Peeps!' # String\n",
    "\n",
    "a = b = greeting # Multiple variables assigned the same value!\n",
    "print(a, b) # Printing multiple variables at the same time."
   ]
  },
  {
   "cell_type": "markdown",
   "metadata": {
    "slideshow": {
     "slide_type": "slide"
    }
   },
   "source": [
    "## Arithmetic 101"
   ]
  },
  {
   "cell_type": "code",
   "execution_count": null,
   "metadata": {
    "collapsed": false,
    "slideshow": {
     "slide_type": "fragment"
    }
   },
   "outputs": [],
   "source": [
    "a = 3 # Integer\n",
    "b = 2.0 # Float\n",
    "\n",
    "print a, b, a+b, a-b, a*b, a/b # Floats are contagious!\n",
    "print a // b #modulo: discards the fractional part of the quotient\n",
    "print a % b #remainder"
   ]
  },
  {
   "cell_type": "markdown",
   "metadata": {
    "slideshow": {
     "slide_type": "slide"
    }
   },
   "source": [
    "## Now, let's start making a neuron"
   ]
  },
  {
   "cell_type": "markdown",
   "metadata": {
    "slideshow": {
     "slide_type": "subslide"
    }
   },
   "source": [
    "### Decaying membrane potential of a neuron:"
   ]
  },
  {
   "cell_type": "markdown",
   "metadata": {
    "slideshow": {
     "slide_type": "fragment"
    }
   },
   "source": [
    "#### ![Neuronal membrane as an RC circuit](https://upload.wikimedia.org/wikipedia/commons/thumb/1/13/NeuronResistanceCapacitanceRev.jpg/300px-NeuronResistanceCapacitanceRev.jpg \"Neuronal membrane as an RC circuit\")"
   ]
  },
  {
   "cell_type": "markdown",
   "metadata": {
    "slideshow": {
     "slide_type": "fragment"
    }
   },
   "source": [
    "$$\\frac{dV_m}{dt} = -\\frac{V_m}{R_m C_m}$$"
   ]
  },
  {
   "cell_type": "markdown",
   "metadata": {
    "slideshow": {
     "slide_type": "fragment"
    }
   },
   "source": [
    "### You can also write floats in scientific notation."
   ]
  },
  {
   "cell_type": "code",
   "execution_count": 7,
   "metadata": {
    "collapsed": false,
    "slideshow": {
     "slide_type": "fragment"
    }
   },
   "outputs": [
    {
     "name": "stdout",
     "output_type": "stream",
     "text": [
      "0.65\n"
     ]
    }
   ],
   "source": [
    "Cm = 1e-9 #Capacitance 1 nF\n",
    "Rm = 1e4 #Resistance 10 MOhm\n",
    "Vm = -65e-3 #Voltage -65 mV\n",
    "dt = 1e-4 #time 0.1ms\n",
    "dVm = - Vm * dt / (Rm * Cm)\n",
    "print dVm"
   ]
  },
  {
   "cell_type": "markdown",
   "metadata": {
    "slideshow": {
     "slide_type": "slide"
    }
   },
   "source": [
    "## Lists and Dicts"
   ]
  },
  {
   "cell_type": "markdown",
   "metadata": {
    "slideshow": {
     "slide_type": "subslide"
    }
   },
   "source": [
    "### Lists [ ]"
   ]
  },
  {
   "cell_type": "markdown",
   "metadata": {
    "slideshow": {
     "slide_type": "fragment"
    }
   },
   "source": [
    "#### Membership"
   ]
  },
  {
   "cell_type": "code",
   "execution_count": 1,
   "metadata": {
    "collapsed": false,
    "slideshow": {
     "slide_type": "fragment"
    }
   },
   "outputs": [
    {
     "name": "stdout",
     "output_type": "stream",
     "text": [
      "[1, 2, 3, 4] 4\n",
      "2 in a: True\n",
      "5 in a: False\n"
     ]
    }
   ],
   "source": [
    "a = [1, 2, 3, 4] #this is a list of elements of the same data type\n",
    "\n",
    "print a, len(a)\n",
    "print \"2 in a:\", 2 in a # in is called the membership operator\n",
    "print \"5 in a:\", 5 in a"
   ]
  },
  {
   "cell_type": "markdown",
   "metadata": {
    "slideshow": {
     "slide_type": "fragment"
    }
   },
   "source": [
    "#### Lists of different data-types"
   ]
  },
  {
   "cell_type": "code",
   "execution_count": 2,
   "metadata": {
    "collapsed": false,
    "slideshow": {
     "slide_type": "fragment"
    }
   },
   "outputs": [
    {
     "name": "stdout",
     "output_type": "stream",
     "text": [
      "b: [1, 'a', 'hello', 3.54]\n"
     ]
    }
   ],
   "source": [
    "a = 'Hello'\n",
    "b = [1, 'a', 'hello', 3.54] #elements in a list can be of different data types\n",
    "print \"b:\", b"
   ]
  },
  {
   "cell_type": "markdown",
   "metadata": {
    "slideshow": {
     "slide_type": "subslide"
    }
   },
   "source": [
    "#### Lists of lists and indexing"
   ]
  },
  {
   "cell_type": "code",
   "execution_count": 3,
   "metadata": {
    "collapsed": false,
    "slideshow": {
     "slide_type": "fragment"
    }
   },
   "outputs": [
    {
     "name": "stdout",
     "output_type": "stream",
     "text": [
      "c: ['Hello', [1, 'a', 'hello', 3.54], [5, 4, 3]]\n",
      "c[2]: [5, 4, 3]\n",
      "c[-1]: [5, 4, 3]\n",
      "c[-1][1]: 4\n"
     ]
    }
   ],
   "source": [
    "c = [a, b, [5, 4, 3]] #we are now putting a list within another list\n",
    "print \"c:\", c\n",
    "print \"c[2]:\", c[2]\n",
    "print \"c[-1]:\", c[-1] # Another way to index\n",
    "print \"c[-1][1]:\", c[-1][1] # Accessing elements of the list within the list."
   ]
  },
  {
   "cell_type": "markdown",
   "metadata": {
    "slideshow": {
     "slide_type": "fragment"
    }
   },
   "source": [
    "#### Slicing"
   ]
  },
  {
   "cell_type": "code",
   "execution_count": 4,
   "metadata": {
    "collapsed": false,
    "slideshow": {
     "slide_type": "fragment"
    }
   },
   "outputs": [
    {
     "name": "stdout",
     "output_type": "stream",
     "text": [
      "c[1:]: [[1, 'a', 'hello', 3.54], [5, 4, 3]]\n",
      "c[2:]: [[5, 4, 3]]\n",
      "c[-2:]: [[1, 'a', 'hello', 3.54], [5, 4, 3]]\n",
      "c[:2]: ['Hello', [1, 'a', 'hello', 3.54]]\n"
     ]
    }
   ],
   "source": [
    "print \"c[1:]:\", c[1:]\n",
    "print \"c[2:]:\", c[2:]\n",
    "print \"c[-2:]:\", c[-2:]\n",
    "print \"c[:2]:\", c[:2]"
   ]
  },
  {
   "cell_type": "markdown",
   "metadata": {
    "slideshow": {
     "slide_type": "subslide"
    }
   },
   "source": [
    "#### Lists are mutable"
   ]
  },
  {
   "cell_type": "code",
   "execution_count": 5,
   "metadata": {
    "collapsed": false,
    "slideshow": {
     "slide_type": "fragment"
    }
   },
   "outputs": [
    {
     "name": "stdout",
     "output_type": "stream",
     "text": [
      "c[0]: abracadabra\n",
      "c[0][1]: b\n",
      "c: ['abracadabra', [1, 'a', 'hello', 3.54], [5, 4, 3], 'x']\n",
      "d: ['abracadabra', [1, 'a', 'hello', 3.54], [5, 4, 3], 'x', 1, 2, 3]\n",
      "['abracadabra', [1, 'a', 'hello', 3.54], [5, 4, 3], 'x', 'abracadabra', [1, 'a', 'hello', 3.54], [5, 4, 3], 'x']\n"
     ]
    }
   ],
   "source": [
    "c[0] = 'abracadabra' #replacing the c[0] element\n",
    "print \"c[0]:\", c[0]\n",
    "print \"c[0][1]:\", c[0][1]\n",
    "\n",
    "c.append ('x') # appending elements to an existing list\n",
    "print \"c:\", c\n",
    "d = c + [1, 2, 3] # concatenation of lists\n",
    "print \"d:\", d\n",
    "print c*2"
   ]
  },
  {
   "cell_type": "markdown",
   "metadata": {
    "slideshow": {
     "slide_type": "subslide"
    }
   },
   "source": [
    "### Dicts \\{ \\}"
   ]
  },
  {
   "cell_type": "markdown",
   "metadata": {
    "slideshow": {
     "slide_type": "subslide"
    }
   },
   "source": [
    "#### Dictionaries are unordered key-value pairs"
   ]
  },
  {
   "cell_type": "code",
   "execution_count": 8,
   "metadata": {
    "collapsed": false,
    "slideshow": {
     "slide_type": "fragment"
    }
   },
   "outputs": [
    {
     "name": "stdout",
     "output_type": "stream",
     "text": [
      "parameters {'Rm': 10000.0, 'Vm': -0.065, 'Cm': 1e-09}\n",
      "parameters['Rm']: 10000.0\n"
     ]
    }
   ],
   "source": [
    "parameters = dict() # Initializing an empty dict, also parameters = {}\n",
    "parameters['Rm'] = 1e4\n",
    "parameters = {'Rm' : Rm, 'Cm' : Cm, 'Vm': Vm} # Directly initializing a dictionary\n",
    "print \"parameters\", parameters # See here that it is unordered\n",
    "print \"parameters['Rm']:\", parameters['Rm'] # Accessing elements of a dictionary by key"
   ]
  },
  {
   "cell_type": "code",
   "execution_count": null,
   "metadata": {
    "collapsed": false,
    "slideshow": {
     "slide_type": "fragment"
    }
   },
   "outputs": [],
   "source": [
    "## Uncomment and try this:\n",
    "#parameters[b] = 9e6 "
   ]
  },
  {
   "cell_type": "code",
   "execution_count": 9,
   "metadata": {
    "collapsed": false,
    "slideshow": {
     "slide_type": "fragment"
    }
   },
   "outputs": [
    {
     "name": "stdout",
     "output_type": "stream",
     "text": [
      "all keys in the dictionary: ['Rm', 'Vm', 'Cm']\n",
      "all values in the dictionary: [10000.0, -0.065, 1e-09]\n",
      "all items in the dictionary [('Rm', 10000.0), ('Vm', -0.065), ('Cm', 1e-09)]\n",
      "True\n",
      "False\n"
     ]
    }
   ],
   "source": [
    "print \"all keys in the dictionary:\", parameters.keys() #lists all keys in a dictionary\n",
    "print \"all values in the dictionary:\", parameters.values() #lists all values in a dictionary\n",
    "print \"all items in the dictionary\", parameters.items() #lists all key value pairs in a dictionary\n",
    "print 'Rm' in parameters\n",
    "print 'rm' in parameters"
   ]
  },
  {
   "cell_type": "code",
   "execution_count": null,
   "metadata": {
    "collapsed": false,
    "slideshow": {
     "slide_type": "subslide"
    }
   },
   "outputs": [],
   "source": [
    "import this"
   ]
  },
  {
   "cell_type": "markdown",
   "metadata": {
    "slideshow": {
     "slide_type": "slide"
    }
   },
   "source": [
    "## Conditional Statements"
   ]
  },
  {
   "cell_type": "markdown",
   "metadata": {
    "slideshow": {
     "slide_type": "subslide"
    }
   },
   "source": [
    "### if, elif, else"
   ]
  },
  {
   "cell_type": "code",
   "execution_count": 10,
   "metadata": {
    "collapsed": false,
    "slideshow": {
     "slide_type": "fragment"
    }
   },
   "outputs": [
    {
     "name": "stdout",
     "output_type": "stream",
     "text": [
      "3 is greater than 2\n"
     ]
    }
   ],
   "source": [
    "a, b = 2, 3 #2 gets assigned to a and 3 gets assigned to b\n",
    "if a > b:\n",
    "    print \"%s is greater than %s\" %(a, b)\n",
    "elif b > a:\n",
    "    print \"%s is greater than %s\" %(b, a)\n",
    "else:\n",
    "    print \"%s is equal to %s\" %(a, b)"
   ]
  },
  {
   "cell_type": "code",
   "execution_count": 11,
   "metadata": {
    "collapsed": false,
    "slideshow": {
     "slide_type": "fragment"
    }
   },
   "outputs": [
    {
     "name": "stdout",
     "output_type": "stream",
     "text": [
      "Everything else means boolean False!\n"
     ]
    }
   ],
   "source": [
    "a = [1, 2, 3, 4]\n",
    "b = [] # Empty list\n",
    "c = {} # Empty dict\n",
    "\n",
    "if 0: #to check for a false condition\n",
    "    print a\n",
    "elif None: #to check for a false condition\n",
    "    print a\n",
    "elif False: #to check for a false condition\n",
    "    print a\n",
    "elif b:\n",
    "    print a\n",
    "elif c:\n",
    "    print a   \n",
    "else:\n",
    "    print \"Everything else means boolean False!\""
   ]
  },
  {
   "cell_type": "markdown",
   "metadata": {
    "slideshow": {
     "slide_type": "slide"
    }
   },
   "source": [
    "## Blocks of code are separated in Python by indentation"
   ]
  },
  {
   "cell_type": "markdown",
   "metadata": {
    "slideshow": {
     "slide_type": "fragment"
    }
   },
   "source": [
    "* Blocks can be used to limit scope of variables.\n",
    "* Indentations can be given by spaces, or tabs, but never use them together.\n",
    "* 4 spaces recommended by [PEP8](https://www.python.org/dev/peps/pep-0008/)."
   ]
  },
  {
   "cell_type": "markdown",
   "metadata": {
    "slideshow": {
     "slide_type": "slide"
    }
   },
   "source": [
    "## Operators for comparisons $\\neq, =, \\gt, \\lt, \\leq, \\geq$"
   ]
  },
  {
   "cell_type": "code",
   "execution_count": null,
   "metadata": {
    "collapsed": false,
    "slideshow": {
     "slide_type": "fragment"
    }
   },
   "outputs": [],
   "source": [
    "2 == 2 #numerical comparison operator"
   ]
  },
  {
   "cell_type": "code",
   "execution_count": null,
   "metadata": {
    "collapsed": false,
    "slideshow": {
     "slide_type": "fragment"
    }
   },
   "outputs": [],
   "source": [
    "not (2 == 2) #not operator"
   ]
  },
  {
   "cell_type": "code",
   "execution_count": null,
   "metadata": {
    "collapsed": false,
    "slideshow": {
     "slide_type": "fragment"
    }
   },
   "outputs": [],
   "source": [
    "a = 4\n",
    "if (a > 3) and (a < 7):\n",
    "    print \"a\", a"
   ]
  },
  {
   "cell_type": "code",
   "execution_count": null,
   "metadata": {
    "collapsed": false,
    "slideshow": {
     "slide_type": "fragment"
    }
   },
   "outputs": [],
   "source": [
    "a = 4\n",
    "if (a > 2) or (a < 2):\n",
    "    print \"a\", a"
   ]
  },
  {
   "cell_type": "code",
   "execution_count": null,
   "metadata": {
    "collapsed": false,
    "slideshow": {
     "slide_type": "fragment"
    }
   },
   "outputs": [],
   "source": [
    "a = 4\n",
    "if (a > 2) and not (a < 2):\n",
    "    print \"a\", a"
   ]
  },
  {
   "cell_type": "code",
   "execution_count": null,
   "metadata": {
    "collapsed": false,
    "slideshow": {
     "slide_type": "fragment"
    }
   },
   "outputs": [],
   "source": [
    "a = 4\n",
    "if (a > 2) or not (a < 5):\n",
    "    print \"a\", a"
   ]
  },
  {
   "cell_type": "markdown",
   "metadata": {
    "slideshow": {
     "slide_type": "slide"
    }
   },
   "source": [
    "##Loops"
   ]
  },
  {
   "cell_type": "markdown",
   "metadata": {
    "slideshow": {
     "slide_type": "subslide"
    }
   },
   "source": [
    "### While loop"
   ]
  },
  {
   "cell_type": "code",
   "execution_count": null,
   "metadata": {
    "collapsed": false,
    "slideshow": {
     "slide_type": "fragment"
    }
   },
   "outputs": [],
   "source": [
    "a = 0\n",
    "while a <= 3: #while loop checks for a condition and repeats until false\n",
    "    print a\n",
    "    a = a + 1\n",
    "print \"outside, a =\", a"
   ]
  },
  {
   "cell_type": "markdown",
   "metadata": {
    "slideshow": {
     "slide_type": "subslide"
    }
   },
   "source": [
    "#### Find all odd numbers upto 100"
   ]
  },
  {
   "cell_type": "code",
   "execution_count": null,
   "metadata": {
    "collapsed": false,
    "slideshow": {
     "slide_type": "fragment"
    }
   },
   "outputs": [],
   "source": [
    "n = 0\n",
    "while n < 100:\n",
    "    if n % 2 == 1:\n",
    "        print n\n",
    "    n = n + 1"
   ]
  },
  {
   "cell_type": "markdown",
   "metadata": {
    "slideshow": {
     "slide_type": "slide"
    }
   },
   "source": [
    "### Now let's put it all together."
   ]
  },
  {
   "cell_type": "markdown",
   "metadata": {
    "slideshow": {
     "slide_type": "fragment"
    }
   },
   "source": [
    "Charge on the capacitor:<br><br>\n",
    "$$ Q = CV $$\n",
    "\n",
    "Differentiating both sides,<br><br>\n",
    "$$-I = C * \\frac{dV}{dt}$$\n",
    "\n",
    "Using Ohm's Law,<br><br>\n",
    "$$- \\frac{V}{R} = C \\frac{dV}{dt} $$<br>\n",
    "or,<br><br>\n",
    "$$ \\frac{dV}{dt} = - \\frac{V}{RC}$$"
   ]
  },
  {
   "cell_type": "code",
   "execution_count": 12,
   "metadata": {
    "collapsed": false,
    "slideshow": {
     "slide_type": "fragment"
    }
   },
   "outputs": [
    {
     "name": "stdout",
     "output_type": "stream",
     "text": [
      "0.0 50.0\n",
      "0.1 49.5\n",
      "0.2 49.005\n",
      "0.3 48.51495\n",
      "0.4 48.0298005\n",
      "0.5 47.549502495\n",
      "0.6 47.0740074701\n",
      "0.7 46.6032673953\n",
      "0.8 46.1372347214\n",
      "0.9 45.6758623742\n",
      "1.0 45.2191037504\n",
      "1.1 44.7669127129\n",
      "1.2 44.3192435858\n",
      "1.3 43.8760511499\n",
      "1.4 43.4372906384\n",
      "1.5 43.0029177321\n",
      "1.6 42.5728885547\n",
      "1.7 42.1471596692\n",
      "1.8 41.7256880725\n",
      "1.9 41.3084311918\n",
      "2.0 40.8953468799\n",
      "2.1 40.4863934111\n",
      "2.2 40.081529477\n",
      "2.3 39.6807141822\n",
      "2.4 39.2839070404\n",
      "2.5 38.89106797\n",
      "2.6 38.5021572903\n",
      "2.7 38.1171357174\n",
      "2.8 37.7359643602\n",
      "2.9 37.3586047166\n",
      "3.0 36.9850186694\n",
      "3.1 36.6151684827\n",
      "3.2 36.2490167979\n",
      "3.3 35.8865266299\n",
      "3.4 35.5276613636\n",
      "3.5 35.17238475\n",
      "3.6 34.8206609025\n",
      "3.7 34.4724542935\n",
      "3.8 34.1277297505\n",
      "3.9 33.786452453\n",
      "4.0 33.4485879285\n",
      "4.1 33.1141020492\n",
      "4.2 32.7829610287\n",
      "4.3 32.4551314184\n",
      "4.4 32.1305801042\n",
      "4.5 31.8092743032\n",
      "4.6 31.4911815602\n",
      "4.7 31.1762697446\n",
      "4.8 30.8645070471\n",
      "4.9 30.5558619766\n",
      "5.0 30.2503033569\n",
      "5.1 29.9478003233\n",
      "5.2 29.6483223201\n",
      "5.3 29.3518390969\n",
      "5.4 29.0583207059\n",
      "5.5 28.7677374988\n",
      "5.6 28.4800601239\n",
      "5.7 28.1952595226\n",
      "5.8 27.9133069274\n",
      "5.9 27.6341738581\n",
      "6.0 27.3578321195\n",
      "6.1 27.0842537983\n",
      "6.2 26.8134112604\n",
      "6.3 26.5452771478\n",
      "6.4 26.2798243763\n",
      "6.5 26.0170261325\n",
      "6.6 25.7568558712\n",
      "6.7 25.4992873125\n",
      "6.8 25.2442944394\n",
      "6.9 24.991851495\n",
      "7.0 24.74193298\n",
      "7.1 24.4945136502\n",
      "7.2 24.2495685137\n",
      "7.3 24.0070728286\n",
      "7.4 23.7670021003\n",
      "7.5 23.5293320793\n",
      "7.6 23.2940387585\n",
      "7.7 23.0610983709\n",
      "7.8 22.8304873872\n",
      "7.9 22.6021825133\n",
      "8.0 22.3761606882\n",
      "8.1 22.1523990813\n",
      "8.2 21.9308750905\n",
      "8.3 21.7115663396\n",
      "8.4 21.4944506762\n",
      "8.5 21.2795061694\n",
      "8.6 21.0667111077\n",
      "8.7 20.8560439967\n",
      "8.8 20.6474835567\n",
      "8.9 20.4410087211\n",
      "9.0 20.2365986339\n",
      "9.1 20.0342326476\n",
      "9.2 19.8338903211\n",
      "9.3 19.6355514179\n",
      "9.4 19.4391959037\n",
      "9.5 19.2448039447\n",
      "9.6 19.0523559052\n",
      "9.7 18.8618323462\n",
      "9.8 18.6732140227\n",
      "9.9 18.4864818825\n",
      "10.0 18.3016170637\n",
      "10.1 18.118600893\n",
      "10.2 17.9374148841\n",
      "10.3 17.7580407353\n",
      "10.4 17.5804603279\n",
      "10.5 17.4046557246\n",
      "10.6 17.2306091674\n",
      "10.7 17.0583030757\n",
      "10.8 16.8877200449\n",
      "10.9 16.7188428445\n",
      "11.0 16.5516544161\n",
      "11.1 16.3861378719\n",
      "11.2 16.2222764932\n",
      "11.3 16.0600537282\n",
      "11.4 15.899453191\n",
      "11.5 15.740458659\n",
      "11.6 15.5830540725\n",
      "11.7 15.4272235317\n",
      "11.8 15.2729512964\n",
      "11.9 15.1202217835\n",
      "12.0 14.9690195656\n",
      "12.1 14.81932937\n",
      "12.2 14.6711360763\n",
      "12.3 14.5244247155\n",
      "12.4 14.3791804683\n",
      "12.5 14.2353886637\n",
      "12.6 14.093034777\n",
      "12.7 13.9521044293\n",
      "12.8 13.812583385\n",
      "12.9 13.6744575511\n",
      "13.0 13.5377129756\n",
      "13.1 13.4023358458\n",
      "13.2 13.2683124874\n",
      "13.3 13.1356293625\n",
      "13.4 13.0042730689\n",
      "13.5 12.8742303382\n",
      "13.6 12.7454880348\n",
      "13.7 12.6180331545\n",
      "13.8 12.4918528229\n",
      "13.9 12.3669342947\n",
      "14.0 12.2432649517\n",
      "14.1 12.1208323022\n",
      "14.2 11.9996239792\n",
      "14.3 11.8796277394\n",
      "14.4 11.760831462\n",
      "14.5 11.6432231474\n",
      "14.6 11.5267909159\n",
      "14.7 11.4115230068\n",
      "14.8 11.2974077767\n",
      "14.9 11.1844336989\n",
      "15.0 11.0725893619\n",
      "15.1 10.9618634683\n",
      "15.2 10.8522448336\n",
      "15.3 10.7437223853\n",
      "15.4 10.6362851615\n",
      "15.5 10.5299223098\n",
      "15.6 10.4246230867\n",
      "15.7 10.3203768559\n",
      "15.8 10.2171730873\n",
      "15.9 10.1150013564\n",
      "16.0 10.0138513429\n",
      "16.1 9.91371282945\n",
      "16.2 9.81457570115\n",
      "16.3 9.71642994414\n",
      "16.4 9.6192656447\n",
      "16.5 9.52307298825\n",
      "16.6 9.42784225837\n",
      "16.7 9.33356383579\n",
      "16.8 9.24022819743\n",
      "16.9 9.14782591545\n",
      "17.0 9.0563476563\n",
      "17.1 8.96578417974\n",
      "17.2 8.87612633794\n",
      "17.3 8.78736507456\n",
      "17.4 8.69949142381\n",
      "17.5 8.61249650958\n",
      "17.6 8.52637154448\n",
      "17.7 8.44110782903\n",
      "17.8 8.35669675074\n",
      "17.9 8.27312978324\n",
      "18.0 8.1903984854\n",
      "18.1 8.10849450055\n",
      "18.2 8.02740955554\n",
      "18.3 7.94713545999\n",
      "18.4 7.86766410539\n",
      "18.5 7.78898746434\n",
      "18.6 7.71109758969\n",
      "18.7 7.6339866138\n",
      "18.8 7.55764674766\n",
      "18.9 7.48207028018\n",
      "19.0 7.40724957738\n",
      "19.1 7.33317708161\n",
      "19.2 7.25984531079\n",
      "19.3 7.18724685768\n",
      "19.4 7.1153743891\n",
      "19.5 7.04422064521\n",
      "19.6 6.97377843876\n",
      "19.7 6.90404065437\n",
      "19.8 6.83500024783\n",
      "19.9 6.76665024535\n",
      "20.0 6.6989837429\n",
      "20.1 6.63199390547\n",
      "20.2 6.56567396641\n",
      "20.3 6.50001722675\n",
      "20.4 6.43501705448\n",
      "20.5 6.37066688394\n",
      "20.6 6.3069602151\n",
      "20.7 6.24389061295\n",
      "20.8 6.18145170682\n",
      "20.9 6.11963718975\n",
      "21.0 6.05844081785\n",
      "21.1 5.99785640967\n",
      "21.2 5.93787784558\n",
      "21.3 5.87849906712\n",
      "21.4 5.81971407645\n",
      "21.5 5.76151693569\n",
      "21.6 5.70390176633\n",
      "21.7 5.64686274867\n",
      "21.8 5.59039412118\n",
      "21.9 5.53449017997\n",
      "22.0 5.47914527817\n",
      "22.1 5.42435382539\n",
      "22.2 5.37011028713\n",
      "22.3 5.31640918426\n",
      "22.4 5.26324509242\n",
      "22.5 5.21061264149\n",
      "22.6 5.15850651508\n",
      "22.7 5.10692144993\n",
      "22.8 5.05585223543\n",
      "22.9 5.00529371307\n",
      "23.0 4.95524077594\n",
      "23.1 4.90568836818\n",
      "23.2 4.8566314845\n",
      "23.3 4.80806516966\n",
      "23.4 4.75998451796\n",
      "23.5 4.71238467278\n",
      "23.6 4.66526082605\n",
      "23.7 4.61860821779\n",
      "23.8 4.57242213561\n",
      "23.9 4.52669791426\n",
      "24.0 4.48143093512\n",
      "24.1 4.43661662577\n",
      "24.2 4.39225045951\n",
      "24.3 4.34832795491\n",
      "24.4 4.30484467536\n",
      "24.5 4.26179622861\n",
      "24.6 4.21917826632\n",
      "24.7 4.17698648366\n",
      "24.8 4.13521661882\n",
      "24.9 4.09386445264\n",
      "25.0 4.05292580811\n",
      "25.1 4.01239655003\n",
      "25.2 3.97227258453\n",
      "25.3 3.93254985868\n",
      "25.4 3.8932243601\n",
      "25.5 3.85429211649\n",
      "25.6 3.81574919533\n",
      "25.7 3.77759170338\n",
      "25.8 3.73981578634\n",
      "25.9 3.70241762848\n",
      "26.0 3.66539345219\n",
      "26.1 3.62873951767\n",
      "26.2 3.5924521225\n",
      "26.3 3.55652760127\n",
      "26.4 3.52096232526\n",
      "26.5 3.48575270201\n",
      "26.6 3.45089517499\n",
      "26.7 3.41638622324\n",
      "26.8 3.382222361\n",
      "26.9 3.34840013739\n",
      "27.0 3.31491613602\n",
      "27.1 3.28176697466\n",
      "27.2 3.24894930491\n",
      "27.3 3.21645981186\n",
      "27.4 3.18429521374\n",
      "27.5 3.15245226161\n",
      "27.6 3.12092773899\n",
      "27.7 3.0897184616\n",
      "27.8 3.05882127699\n",
      "27.9 3.02823306422\n",
      "28.0 2.99795073357\n",
      "28.1 2.96797122624\n",
      "28.2 2.93829151398\n",
      "28.3 2.90890859884\n",
      "28.4 2.87981951285\n",
      "28.5 2.85102131772\n",
      "28.6 2.82251110454\n",
      "28.7 2.7942859935\n",
      "28.8 2.76634313356\n",
      "28.9 2.73867970223\n",
      "29.0 2.7112929052\n",
      "29.1 2.68417997615\n",
      "29.2 2.65733817639\n",
      "29.3 2.63076479463\n",
      "29.4 2.60445714668\n",
      "29.5 2.57841257521\n",
      "29.6 2.55262844946\n",
      "29.7 2.52710216497\n",
      "29.8 2.50183114332\n",
      "29.9 2.47681283188\n",
      "30.0 2.45204470356\n",
      "30.1 2.42752425653\n",
      "30.2 2.40324901396\n",
      "30.3 2.37921652382\n",
      "30.4 2.35542435859\n",
      "30.5 2.331870115\n",
      "30.6 2.30855141385\n",
      "30.7 2.28546589971\n",
      "30.8 2.26261124071\n",
      "30.9 2.23998512831\n",
      "31.0 2.21758527702\n",
      "31.1 2.19540942425\n",
      "31.2 2.17345533001\n",
      "31.3 2.15172077671\n",
      "31.4 2.13020356894\n",
      "31.5 2.10890153325\n",
      "31.6 2.08781251792\n",
      "31.7 2.06693439274\n",
      "31.8 2.04626504882\n",
      "31.9 2.02580239833\n",
      "32.0 2.00554437434\n",
      "32.1 1.9854889306\n",
      "32.2 1.96563404129\n",
      "32.3 1.94597770088\n",
      "32.4 1.92651792387\n",
      "32.5 1.90725274463\n",
      "32.6 1.88818021719\n",
      "32.7 1.86929841502\n",
      "32.8 1.85060543087\n",
      "32.9 1.83209937656\n",
      "33.0 1.81377838279\n",
      "33.1 1.79564059896\n",
      "33.2 1.77768419297\n",
      "33.3 1.75990735104\n",
      "33.4 1.74230827753\n",
      "33.5 1.72488519476\n",
      "33.6 1.70763634281\n",
      "33.7 1.69055997938\n",
      "33.8 1.67365437959\n",
      "33.9 1.65691783579\n",
      "34.0 1.64034865743\n",
      "34.1 1.62394517086\n",
      "34.2 1.60770571915\n",
      "34.3 1.59162866196\n",
      "34.4 1.57571237534\n",
      "34.5 1.55995525159\n",
      "34.6 1.54435569907\n",
      "34.7 1.52891214208\n",
      "34.8 1.51362302066\n",
      "34.9 1.49848679045\n",
      "35.0 1.48350192255\n",
      "35.1 1.46866690332\n",
      "35.2 1.45398023429\n",
      "35.3 1.43944043195\n",
      "35.4 1.42504602763\n",
      "35.5 1.41079556735\n",
      "35.6 1.39668761168\n",
      "35.7 1.38272073556\n",
      "35.8 1.36889352821\n",
      "35.9 1.35520459292\n",
      "36.0 1.34165254699\n",
      "36.1 1.32823602152\n",
      "36.2 1.31495366131\n",
      "36.3 1.3018041247\n",
      "36.4 1.28878608345\n",
      "36.5 1.27589822261\n",
      "36.6 1.26313924039\n",
      "36.7 1.25050784798\n",
      "36.8 1.2380027695\n",
      "36.9 1.22562274181\n",
      "37.0 1.21336651439\n",
      "37.1 1.20123284925\n",
      "37.2 1.18922052076\n",
      "37.3 1.17732831555\n",
      "37.4 1.16555503239\n",
      "37.5 1.15389948207\n",
      "37.6 1.14236048725\n",
      "37.7 1.13093688238\n",
      "37.8 1.11962751355\n",
      "37.9 1.10843123842\n",
      "38.0 1.09734692603\n",
      "38.1 1.08637345677\n",
      "38.2 1.0755097222\n",
      "38.3 1.06475462498\n",
      "38.4 1.05410707873\n",
      "38.5 1.04356600794\n",
      "38.6 1.03313034786\n",
      "38.7 1.02279904439\n",
      "38.8 1.01257105394\n",
      "38.9 1.0024453434\n",
      "39.0 0.992420889969\n",
      "39.1 0.982496681069\n",
      "39.2 0.972671714259\n",
      "39.3 0.962944997116\n",
      "39.4 0.953315547145\n",
      "39.5 0.943782391673\n",
      "39.6 0.934344567757\n",
      "39.7 0.925001122079\n",
      "39.8 0.915751110858\n",
      "39.9 0.90659359975\n",
      "40.0 0.897527663752\n",
      "40.1 0.888552387115\n",
      "40.2 0.879666863244\n",
      "40.3 0.870870194611\n",
      "40.4 0.862161492665\n",
      "40.5 0.853539877738\n",
      "40.6 0.845004478961\n",
      "40.7 0.836554434171\n",
      "40.8 0.82818888983\n",
      "40.9 0.819907000931\n",
      "41.0 0.811707930922\n",
      "41.1 0.803590851613\n",
      "41.2 0.795554943097\n",
      "41.3 0.787599393666\n",
      "41.4 0.779723399729\n",
      "41.5 0.771926165732\n",
      "41.6 0.764206904074\n",
      "41.7 0.756564835034\n",
      "41.8 0.748999186683\n",
      "41.9 0.741509194817\n",
      "42.0 0.734094102868\n",
      "42.1 0.72675316184\n",
      "42.2 0.719485630221\n",
      "42.3 0.712290773919\n",
      "42.4 0.70516786618\n",
      "42.5 0.698116187518\n",
      "42.6 0.691135025643\n",
      "42.7 0.684223675387\n",
      "42.8 0.677381438633\n",
      "42.9 0.670607624246\n",
      "43.0 0.663901548004\n",
      "43.1 0.657262532524\n",
      "43.2 0.650689907199\n",
      "43.3 0.644183008127\n",
      "43.4 0.637741178045\n",
      "43.5 0.631363766265\n",
      "43.6 0.625050128602\n",
      "43.7 0.618799627316\n",
      "43.8 0.612611631043\n",
      "43.9 0.606485514733\n",
      "44.0 0.600420659585\n",
      "44.1 0.594416452989\n",
      "44.2 0.58847228846\n",
      "44.3 0.582587565575\n",
      "44.4 0.576761689919\n",
      "44.5 0.57099407302\n",
      "44.6 0.56528413229\n",
      "44.7 0.559631290967\n",
      "44.8 0.554034978057\n",
      "44.9 0.548494628277\n",
      "45.0 0.543009681994\n",
      "45.1 0.537579585174\n",
      "45.2 0.532203789322\n",
      "45.3 0.526881751429\n",
      "45.4 0.521612933915\n",
      "45.5 0.516396804576\n",
      "45.6 0.51123283653\n",
      "45.7 0.506120508165\n",
      "45.8 0.501059303083\n",
      "45.9 0.496048710052\n",
      "46.0 0.491088222952\n",
      "46.1 0.486177340722\n",
      "46.2 0.481315567315\n",
      "46.3 0.476502411642\n",
      "46.4 0.471737387525\n",
      "46.5 0.46702001365\n",
      "46.6 0.462349813513\n",
      "46.7 0.457726315378\n",
      "46.8 0.453149052225\n",
      "46.9 0.448617561702\n",
      "47.0 0.444131386085\n",
      "47.1 0.439690072224\n",
      "47.2 0.435293171502\n",
      "47.3 0.430940239787\n",
      "47.4 0.426630837389\n",
      "47.5 0.422364529015\n",
      "47.6 0.418140883725\n",
      "47.7 0.413959474888\n",
      "47.8 0.409819880139\n",
      "47.9 0.405721681338\n",
      "48.0 0.401664464524\n",
      "48.1 0.397647819879\n",
      "48.2 0.39367134168\n",
      "48.3 0.389734628263\n",
      "48.4 0.385837281981\n",
      "48.5 0.381978909161\n",
      "48.6 0.378159120069\n",
      "48.7 0.374377528869\n",
      "48.8 0.37063375358\n",
      "48.9 0.366927416044\n",
      "49.0 0.363258141884\n",
      "49.1 0.359625560465\n",
      "49.2 0.35602930486\n",
      "49.3 0.352469011812\n",
      "49.4 0.348944321694\n",
      "49.5 0.345454878477\n",
      "49.6 0.342000329692\n",
      "49.7 0.338580326395\n",
      "49.8 0.335194523131\n",
      "49.9 0.3318425779\n",
      "50.0 0.328524152121\n",
      "50.1 0.3252389106\n",
      "50.2 0.321986521494\n",
      "50.3 0.318766656279\n",
      "50.4 0.315578989716\n",
      "50.5 0.312423199819\n",
      "50.6 0.30929896782\n",
      "50.7 0.306205978142\n",
      "50.8 0.303143918361\n",
      "50.9 0.300112479177\n",
      "51.0 0.297111354385\n",
      "51.1 0.294140240842\n",
      "51.2 0.291198838433\n",
      "51.3 0.288286850049\n",
      "51.4 0.285403981548\n",
      "51.5 0.282549941733\n",
      "51.6 0.279724442316\n",
      "51.7 0.276927197892\n",
      "51.8 0.274157925913\n",
      "51.9 0.271416346654\n",
      "52.0 0.268702183188\n",
      "52.1 0.266015161356\n",
      "52.2 0.263355009742\n",
      "52.3 0.260721459645\n",
      "52.4 0.258114245048\n",
      "52.5 0.255533102598\n",
      "52.6 0.252977771572\n",
      "52.7 0.250447993856\n",
      "52.8 0.247943513918\n",
      "52.9 0.245464078779\n",
      "53.0 0.243009437991\n",
      "53.1 0.240579343611\n",
      "53.2 0.238173550175\n",
      "53.3 0.235791814673\n",
      "53.4 0.233433896526\n",
      "53.5 0.231099557561\n",
      "53.6 0.228788561985\n",
      "53.7 0.226500676366\n",
      "53.8 0.224235669602\n",
      "53.9 0.221993312906\n",
      "54.0 0.219773379777\n",
      "54.1 0.217575645979\n",
      "54.2 0.215399889519\n",
      "54.3 0.213245890624\n",
      "54.4 0.211113431718\n",
      "54.5 0.209002297401\n",
      "54.6 0.206912274427\n",
      "54.7 0.204843151682\n",
      "54.8 0.202794720166\n",
      "54.9 0.200766772964\n",
      "55.0 0.198759105234\n",
      "55.1 0.196771514182\n",
      "55.2 0.19480379904\n",
      "55.3 0.19285576105\n",
      "55.4 0.190927203439\n",
      "55.5 0.189017931405\n",
      "55.6 0.187127752091\n",
      "55.7 0.18525647457\n",
      "55.8 0.183403909824\n",
      "55.9 0.181569870726\n",
      "56.0 0.179754172019\n",
      "56.1 0.177956630298\n",
      "56.2 0.176177063995\n",
      "56.3 0.174415293356\n",
      "56.4 0.172671140422\n",
      "56.5 0.170944429018\n",
      "56.6 0.169234984728\n",
      "56.7 0.16754263488\n",
      "56.8 0.165867208531\n",
      "56.9 0.164208536446\n",
      "57.0 0.162566451082\n",
      "57.1 0.160940786571\n",
      "57.2 0.159331378705\n",
      "57.3 0.157738064918\n",
      "57.4 0.156160684269\n",
      "57.5 0.154599077426\n",
      "57.6 0.153053086652\n",
      "57.7 0.151522555785\n",
      "57.8 0.150007330228\n",
      "57.9 0.148507256925\n",
      "58.0 0.147022184356\n",
      "58.1 0.145551962513\n",
      "58.2 0.144096442887\n",
      "58.3 0.142655478459\n",
      "58.4 0.141228923674\n",
      "58.5 0.139816634437\n",
      "58.6 0.138418468093\n",
      "58.7 0.137034283412\n",
      "58.8 0.135663940578\n",
      "58.9 0.134307301172\n",
      "59.0 0.13296422816\n",
      "59.1 0.131634585879\n",
      "59.2 0.13031824002\n",
      "59.3 0.12901505762\n",
      "59.4 0.127724907044\n",
      "59.5 0.126447657973\n",
      "59.6 0.125183181393\n",
      "59.7 0.123931349579\n",
      "59.8 0.122692036084\n",
      "59.9 0.121465115723\n",
      "60.0 0.120250464566\n",
      "60.1 0.11904795992\n",
      "60.2 0.117857480321\n",
      "60.3 0.116678905517\n",
      "60.4 0.115512116462\n",
      "60.5 0.114356995298\n",
      "60.6 0.113213425345\n",
      "60.7 0.112081291091\n",
      "60.8 0.11096047818\n",
      "60.9 0.109850873399\n",
      "61.0 0.108752364665\n",
      "61.1 0.107664841018\n",
      "61.2 0.106588192608\n",
      "61.3 0.105522310682\n",
      "61.4 0.104467087575\n",
      "61.5 0.103422416699\n",
      "61.6 0.102388192532\n",
      "61.7 0.101364310607\n",
      "61.8 0.100350667501\n",
      "61.9 0.0993471608257\n",
      "62.0 0.0983536892175\n",
      "62.1 0.0973701523253\n",
      "62.2 0.096396450802\n",
      "62.3 0.095432486294\n",
      "62.4 0.0944781614311\n",
      "62.5 0.0935333798168\n",
      "62.6 0.0925980460186\n",
      "62.7 0.0916720655584\n",
      "62.8 0.0907553449028\n",
      "62.9 0.0898477914538\n",
      "63.0 0.0889493135393\n",
      "63.1 0.0880598204039\n",
      "63.2 0.0871792221998\n",
      "63.3 0.0863074299778\n",
      "63.4 0.085444355678\n",
      "63.5 0.0845899121213\n",
      "63.6 0.0837440130001\n",
      "63.7 0.0829065728701\n",
      "63.8 0.0820775071414\n",
      "63.9 0.0812567320699\n",
      "64.0 0.0804441647492\n",
      "64.1 0.0796397231017\n",
      "64.2 0.0788433258707\n",
      "64.3 0.078054892612\n",
      "64.4 0.0772743436859\n",
      "64.5 0.076501600249\n",
      "64.6 0.0757365842466\n",
      "64.7 0.0749792184041\n",
      "64.8 0.07422942622\n",
      "64.9 0.0734871319578\n",
      "65.0 0.0727522606383\n",
      "65.1 0.0720247380319\n",
      "65.2 0.0713044906516\n",
      "65.3 0.0705914457451\n",
      "65.4 0.0698855312876\n",
      "65.5 0.0691866759747\n",
      "65.6 0.068494809215\n",
      "65.7 0.0678098611228\n",
      "65.8 0.0671317625116\n",
      "65.9 0.0664604448865\n",
      "66.0 0.0657958404376\n",
      "66.1 0.0651378820332\n",
      "66.2 0.0644865032129\n",
      "66.3 0.0638416381808\n",
      "66.4 0.063203221799\n",
      "66.5 0.062571189581\n",
      "66.6 0.0619454776852\n",
      "66.7 0.0613260229083\n",
      "66.8 0.0607127626792\n",
      "66.9 0.0601056350524\n",
      "67.0 0.0595045787019\n",
      "67.1 0.0589095329149\n",
      "67.2 0.0583204375858\n",
      "67.3 0.0577372332099\n",
      "67.4 0.0571598608778\n",
      "67.5 0.056588262269\n",
      "67.6 0.0560223796463\n",
      "67.7 0.0554621558499\n",
      "67.8 0.0549075342914\n",
      "67.9 0.0543584589485\n",
      "68.0 0.053814874359\n",
      "68.1 0.0532767256154\n",
      "68.2 0.0527439583592\n",
      "68.3 0.0522165187756\n",
      "68.4 0.0516943535879\n",
      "68.5 0.051177410052\n",
      "68.6 0.0506656359515\n",
      "68.7 0.050158979592\n",
      "68.8 0.049657389796\n",
      "68.9 0.0491608158981\n",
      "69.0 0.0486692077391\n",
      "69.1 0.0481825156617\n",
      "69.2 0.0477006905051\n",
      "69.3 0.0472236836\n",
      "69.4 0.046751446764\n",
      "69.5 0.0462839322964\n",
      "69.6 0.0458210929734\n",
      "69.7 0.0453628820437\n",
      "69.8 0.0449092532233\n",
      "69.9 0.044460160691\n",
      "70.0 0.0440155590841\n",
      "70.1 0.0435754034933\n",
      "70.2 0.0431396494583\n",
      "70.3 0.0427082529638\n",
      "70.4 0.0422811704341\n",
      "70.5 0.0418583587298\n",
      "70.6 0.0414397751425\n",
      "70.7 0.0410253773911\n",
      "70.8 0.0406151236172\n",
      "70.9 0.040208972381\n",
      "71.0 0.0398068826572\n",
      "71.1 0.0394088138306\n",
      "71.2 0.0390147256923\n",
      "71.3 0.0386245784354\n",
      "71.4 0.038238332651\n",
      "71.5 0.0378559493245\n",
      "71.6 0.0374773898313\n",
      "71.7 0.0371026159329\n",
      "71.8 0.0367315897736\n",
      "71.9 0.0363642738759\n",
      "72.0 0.0360006311371\n",
      "72.1 0.0356406248258\n",
      "72.2 0.0352842185775\n",
      "72.3 0.0349313763917\n",
      "72.4 0.0345820626278\n",
      "72.5 0.0342362420015\n",
      "72.6 0.0338938795815\n",
      "72.7 0.0335549407857\n",
      "72.8 0.0332193913778\n",
      "72.9 0.0328871974641\n",
      "73.0 0.0325583254894\n",
      "73.1 0.0322327422345\n",
      "73.2 0.0319104148122\n",
      "73.3 0.0315913106641\n",
      "73.4 0.0312753975574\n",
      "73.5 0.0309626435818\n",
      "73.6 0.030653017146\n",
      "73.7 0.0303464869746\n",
      "73.8 0.0300430221048\n",
      "73.9 0.0297425918838\n",
      "74.0 0.0294451659649\n",
      "74.1 0.0291507143053\n",
      "74.2 0.0288592071622\n",
      "74.3 0.0285706150906\n",
      "74.4 0.0282849089397\n",
      "74.5 0.0280020598503\n",
      "74.6 0.0277220392518\n",
      "74.7 0.0274448188593\n",
      "74.8 0.0271703706707\n",
      "74.9 0.026898666964\n",
      "75.0 0.0266296802943\n",
      "75.1 0.0263633834914\n",
      "75.2 0.0260997496565\n",
      "75.3 0.0258387521599\n",
      "75.4 0.0255803646383\n",
      "75.5 0.0253245609919\n",
      "75.6 0.025071315382\n",
      "75.7 0.0248206022282\n",
      "75.8 0.0245723962059\n",
      "75.9 0.0243266722439\n",
      "76.0 0.0240834055214\n",
      "76.1 0.0238425714662\n",
      "76.2 0.0236041457515\n",
      "76.3 0.023368104294\n",
      "76.4 0.0231344232511\n",
      "76.5 0.0229030790186\n",
      "76.6 0.0226740482284\n",
      "76.7 0.0224473077461\n",
      "76.8 0.0222228346686\n",
      "76.9 0.022000606322\n",
      "77.0 0.0217806002587\n",
      "77.1 0.0215627942562\n",
      "77.2 0.0213471663136\n",
      "77.3 0.0211336946505\n",
      "77.4 0.020922357704\n",
      "77.5 0.0207131341269\n",
      "77.6 0.0205060027856\n",
      "77.7 0.0203009427578\n",
      "77.8 0.0200979333302\n",
      "77.9 0.0198969539969\n",
      "78.0 0.0196979844569\n",
      "78.1 0.0195010046124\n",
      "78.2 0.0193059945662\n",
      "78.3 0.0191129346206\n",
      "78.4 0.0189218052744\n",
      "78.5 0.0187325872216\n",
      "78.6 0.0185452613494\n",
      "78.7 0.0183598087359\n",
      "78.8 0.0181762106486\n",
      "78.9 0.0179944485421\n",
      "79.0 0.0178145040567\n",
      "79.1 0.0176363590161\n",
      "79.2 0.0174599954259\n",
      "79.3 0.0172853954717\n",
      "79.4 0.017112541517\n",
      "79.5 0.0169414161018\n",
      "79.6 0.0167720019408\n",
      "79.7 0.0166042819214\n",
      "79.8 0.0164382391021\n",
      "79.9 0.0162738567111\n",
      "80.0 0.016111118144\n",
      "80.1 0.0159500069626\n",
      "80.2 0.0157905068929\n",
      "80.3 0.015632601824\n",
      "80.4 0.0154762758058\n",
      "80.5 0.0153215130477\n",
      "80.6 0.0151682979172\n",
      "80.7 0.0150166149381\n",
      "80.8 0.0148664487887\n",
      "80.9 0.0147177843008\n",
      "81.0 0.0145706064578\n",
      "81.1 0.0144249003932\n",
      "81.2 0.0142806513893\n",
      "81.3 0.0141378448754\n",
      "81.4 0.0139964664266\n",
      "81.5 0.0138565017624\n",
      "81.6 0.0137179367447\n",
      "81.7 0.0135807573773\n",
      "81.8 0.0134449498035\n",
      "81.9 0.0133105003055\n",
      "82.0 0.0131773953024\n",
      "82.1 0.0130456213494\n",
      "82.2 0.0129151651359\n",
      "82.3 0.0127860134846\n",
      "82.4 0.0126581533497\n",
      "82.5 0.0125315718162\n",
      "82.6 0.0124062560981\n",
      "82.7 0.0122821935371\n",
      "82.8 0.0121593716017\n",
      "82.9 0.0120377778857\n",
      "83.0 0.0119174001068\n",
      "83.1 0.0117982261058\n",
      "83.2 0.0116802438447\n",
      "83.3 0.0115634414063\n",
      "83.4 0.0114478069922\n",
      "83.5 0.0113333289223\n",
      "83.6 0.011219995633\n",
      "83.7 0.0111077956767\n",
      "83.8 0.01099671772\n",
      "83.9 0.0108867505428\n",
      "84.0 0.0107778830373\n",
      "84.1 0.010670104207\n",
      "84.2 0.0105634031649\n",
      "84.3 0.0104577691332\n",
      "84.4 0.0103531914419\n",
      "84.5 0.0102496595275\n",
      "84.6 0.0101471629322\n",
      "84.7 0.0100456913029\n",
      "84.8 0.00994523438985\n",
      "84.9 0.00984578204596\n",
      "85.0 0.0097473242255\n",
      "85.1 0.00964985098324\n",
      "85.2 0.00955335247341\n",
      "85.3 0.00945781894868\n",
      "85.4 0.00936324075919\n",
      "85.5 0.0092696083516\n",
      "85.6 0.00917691226808\n",
      "85.7 0.0090851431454\n",
      "85.8 0.00899429171395\n",
      "85.9 0.00890434879681\n",
      "86.0 0.00881530530884\n",
      "86.1 0.00872715225575\n",
      "86.2 0.00863988073319\n",
      "86.3 0.00855348192586\n",
      "86.4 0.0084679471066\n",
      "86.5 0.00838326763554\n",
      "86.6 0.00829943495918\n",
      "86.7 0.00821644060959\n",
      "86.8 0.00813427620349\n",
      "86.9 0.00805293344146\n",
      "87.0 0.00797240410704\n",
      "87.1 0.00789268006597\n",
      "87.2 0.00781375326531\n",
      "87.3 0.00773561573266\n",
      "87.4 0.00765825957533\n",
      "87.5 0.00758167697958\n",
      "87.6 0.00750586020978\n",
      "87.7 0.00743080160769\n",
      "87.8 0.00735649359161\n",
      "87.9 0.00728292865569\n",
      "88.0 0.00721009936914\n",
      "88.1 0.00713799837545\n",
      "88.2 0.00706661839169\n",
      "88.3 0.00699595220777\n",
      "88.4 0.0069259926857\n",
      "88.5 0.00685673275884\n",
      "88.6 0.00678816543125\n",
      "88.7 0.00672028377694\n",
      "88.8 0.00665308093917\n",
      "88.9 0.00658655012978\n",
      "89.0 0.00652068462848\n",
      "89.1 0.00645547778219\n",
      "89.2 0.00639092300437\n",
      "89.3 0.00632701377433\n",
      "89.4 0.00626374363659\n",
      "89.5 0.00620110620022\n",
      "89.6 0.00613909513822\n",
      "89.7 0.00607770418684\n",
      "89.8 0.00601692714497\n",
      "89.9 0.00595675787352\n",
      "90.0 0.00589719029478\n",
      "90.1 0.00583821839183\n",
      "90.2 0.00577983620792\n",
      "90.3 0.00572203784584\n",
      "90.4 0.00566481746738\n",
      "90.5 0.0056081692927\n",
      "90.6 0.00555208759978\n",
      "90.7 0.00549656672378\n",
      "90.8 0.00544160105654\n",
      "90.9 0.00538718504598\n",
      "91.0 0.00533331319552\n",
      "91.1 0.00527998006356\n",
      "91.2 0.00522718026293\n",
      "91.3 0.0051749084603\n",
      "91.4 0.00512315937569\n",
      "91.5 0.00507192778194\n",
      "91.6 0.00502120850412\n",
      "91.7 0.00497099641908\n",
      "91.8 0.00492128645489\n",
      "91.9 0.00487207359034\n",
      "92.0 0.00482335285443\n",
      "92.1 0.00477511932589\n",
      "92.2 0.00472736813263\n",
      "92.3 0.0046800944513\n",
      "92.4 0.00463329350679\n",
      "92.5 0.00458696057172\n",
      "92.6 0.00454109096601\n",
      "92.7 0.00449568005635\n",
      "92.8 0.00445072325578\n",
      "92.9 0.00440621602322\n",
      "93.0 0.00436215386299\n",
      "93.1 0.00431853232436\n",
      "93.2 0.00427534700112\n",
      "93.3 0.00423259353111\n",
      "93.4 0.0041902675958\n",
      "93.5 0.00414836491984\n",
      "93.6 0.00410688127064\n",
      "93.7 0.00406581245793\n",
      "93.8 0.00402515433335\n",
      "93.9 0.00398490279002\n",
      "94.0 0.00394505376212\n",
      "94.1 0.0039056032245\n",
      "94.2 0.00386654719225\n",
      "94.3 0.00382788172033\n",
      "94.4 0.00378960290313\n",
      "94.5 0.0037517068741\n",
      "94.6 0.00371418980536\n",
      "94.7 0.0036770479073\n",
      "94.8 0.00364027742823\n",
      "94.9 0.00360387465395\n",
      "95.0 0.00356783590741\n",
      "95.1 0.00353215754833\n",
      "95.2 0.00349683597285\n",
      "95.3 0.00346186761312\n",
      "95.4 0.00342724893699\n",
      "95.5 0.00339297644762\n",
      "95.6 0.00335904668314\n",
      "95.7 0.00332545621631\n",
      "95.8 0.00329220165415\n",
      "95.9 0.00325927963761\n",
      "96.0 0.00322668684123\n",
      "96.1 0.00319441997282\n",
      "96.2 0.00316247577309\n",
      "96.3 0.00313085101536\n",
      "96.4 0.00309954250521\n",
      "96.5 0.00306854708016\n",
      "96.6 0.00303786160935\n",
      "96.7 0.00300748299326\n",
      "96.8 0.00297740816333\n",
      "96.9 0.00294763408169\n",
      "97.0 0.00291815774088\n",
      "97.1 0.00288897616347\n",
      "97.2 0.00286008640183\n",
      "97.3 0.00283148553782\n",
      "97.4 0.00280317068244\n",
      "97.5 0.00277513897561\n",
      "97.6 0.00274738758586\n",
      "97.7 0.00271991371\n",
      "97.8 0.0026927145729\n",
      "97.9 0.00266578742717\n",
      "98.0 0.0026391295529\n",
      "98.1 0.00261273825737\n",
      "98.2 0.0025866108748\n",
      "98.3 0.00256074476605\n",
      "98.4 0.00253513731839\n",
      "98.5 0.0025097859452\n",
      "98.6 0.00248468808575\n",
      "98.7 0.00245984120489\n",
      "98.8 0.00243524279284\n",
      "98.9 0.00241089036492\n",
      "99.0 0.00238678146127\n",
      "99.1 0.00236291364665\n",
      "99.2 0.00233928451019\n",
      "99.3 0.00231589166509\n",
      "99.4 0.00229273274843\n",
      "99.5 0.00226980542095\n",
      "99.6 0.00224710736674\n",
      "99.7 0.00222463629307\n",
      "99.8 0.00220238993014\n",
      "99.9 0.00218036603084\n",
      "100.0 0.00215856237053\n"
     ]
    }
   ],
   "source": [
    "# Compute the series of Vm values - how doe\n",
    "# dV / dt = (V(t + dt) - V(t)) / dt\n",
    "# t = 0 till t = 20 (ms)\n",
    "# dt = 0.1 ms\n",
    "# V0 = 50.0 (mV)\n",
    "# Rm = 1e4 (kOhm)\n",
    "# Cm = 1e-3 (uF)\n",
    "\n",
    "t = 0.0\n",
    "tmax = 100.0\n",
    "dt = 0.1\n",
    "V0 = 50.\n",
    "Vdot = 0.0 #Vdot = dV / dt\n",
    "V = V0\n",
    "R = 1e4\n",
    "C = 1e-3\n",
    "\n",
    "while t < tmax:\n",
    "    print t,V\n",
    "    Vdot = -V / (R * C) #V[-1] to acess the last element of the list, here, the last voltage value to append to\n",
    "    V = V + Vdot*dt\n",
    "    t = t + dt"
   ]
  },
  {
   "cell_type": "markdown",
   "metadata": {
    "slideshow": {
     "slide_type": "slide"
    }
   },
   "source": [
    "## Now we should totally plot it!"
   ]
  },
  {
   "cell_type": "markdown",
   "metadata": {
    "slideshow": {
     "slide_type": "subslide"
    }
   },
   "source": [
    "### For that, can you save t and V to a list?"
   ]
  },
  {
   "cell_type": "code",
   "execution_count": 13,
   "metadata": {
    "collapsed": false,
    "slideshow": {
     "slide_type": "fragment"
    }
   },
   "outputs": [],
   "source": [
    "# Compute the series of Vm values - how doe\n",
    "# dV / dt = (V(t + dt) - V(t)) / dt\n",
    "# t = 0 till t = 20 (ms)\n",
    "# dt = 0.1 ms\n",
    "# V0 = 50.0 (mV)\n",
    "# Rm = 1e4 (kOhm)\n",
    "# Cm = 1e-3 (uF)\n",
    "\n",
    "t = 0.0\n",
    "tmax = 100.0\n",
    "dt = 0.1\n",
    "V0 = 50.\n",
    "Vdot = 0.0 #Vdot = dV / dt\n",
    "V = [V0]\n",
    "R = 1e4\n",
    "C = 1e-3\n",
    "\n",
    "t_ = [t]\n",
    "while t < tmax:\n",
    "    Vdot = -(V[-1] / (R * C)) #V[-1] to acess the last element of the list, here, the last voltage value to append to\n",
    "    V.append(V[-1] + Vdot * dt)\n",
    "    t = t + dt\n",
    "    t_.append(t)\n",
    "#print V"
   ]
  },
  {
   "cell_type": "markdown",
   "metadata": {
    "slideshow": {
     "slide_type": "subslide"
    }
   },
   "source": [
    "### Let's plot it!"
   ]
  },
  {
   "cell_type": "code",
   "execution_count": 14,
   "metadata": {
    "collapsed": false,
    "slideshow": {
     "slide_type": "fragment"
    }
   },
   "outputs": [
    {
     "data": {
      "image/png": "[encoded data removed]",
      "text/plain": [
       "<matplotlib.figure.Figure at 0x7f632d592990>"
      ]
     },
     "metadata": {},
     "output_type": "display_data"
    }
   ],
   "source": [
    "%matplotlib inline\n",
    "import matplotlib.pyplot as plt\n",
    "plt.plot(t_, V)\n",
    "plt.xlabel(\"Time\")\n",
    "plt.ylabel(\"Voltage\")\n",
    "plt.show()"
   ]
  },
  {
   "cell_type": "markdown",
   "metadata": {
    "slideshow": {
     "slide_type": "slide"
    }
   },
   "source": [
    "### For Loop"
   ]
  },
  {
   "cell_type": "code",
   "execution_count": null,
   "metadata": {
    "collapsed": false,
    "slideshow": {
     "slide_type": "fragment"
    }
   },
   "outputs": [],
   "source": [
    "for x in V: #for loop iterates through elements in a list - here x is first assigned 0, then 1 and then 2\n",
    "    print x"
   ]
  },
  {
   "cell_type": "code",
   "execution_count": null,
   "metadata": {
    "collapsed": false,
    "slideshow": {
     "slide_type": "fragment"
    }
   },
   "outputs": [],
   "source": [
    "for x,t in zip(V,t_): # Iterating through 2 zipped lists, if sizes are unequal; iteration length is same as smaller list.\n",
    "    print x,t"
   ]
  },
  {
   "cell_type": "code",
   "execution_count": null,
   "metadata": {
    "collapsed": false,
    "slideshow": {
     "slide_type": "fragment"
    }
   },
   "outputs": [],
   "source": [
    "start, stop, step = 0, len(V), 3\n",
    "for x in range(start, stop, step):\n",
    "    print x"
   ]
  },
  {
   "cell_type": "code",
   "execution_count": null,
   "metadata": {
    "collapsed": false,
    "slideshow": {
     "slide_type": "fragment"
    }
   },
   "outputs": [],
   "source": [
    "for x in range(start, stop):\n",
    "    print x"
   ]
  },
  {
   "cell_type": "code",
   "execution_count": null,
   "metadata": {
    "collapsed": false,
    "slideshow": {
     "slide_type": "fragment"
    }
   },
   "outputs": [],
   "source": [
    "for x in range(stop):\n",
    "    print x, V[x]"
   ]
  },
  {
   "cell_type": "markdown",
   "metadata": {
    "slideshow": {
     "slide_type": "slide"
    }
   },
   "source": [
    "### File I/O"
   ]
  },
  {
   "cell_type": "markdown",
   "metadata": {
    "slideshow": {
     "slide_type": "subslide"
    }
   },
   "source": [
    "#### Let's write the above to a file and then read it back"
   ]
  },
  {
   "cell_type": "code",
   "execution_count": null,
   "metadata": {
    "collapsed": false,
    "slideshow": {
     "slide_type": "fragment"
    }
   },
   "outputs": [],
   "source": [
    "fp = open('voltageTrace.txt','w')\n",
    "for volt,t in zip(V,t_):\n",
    "    fp.write(\"{} {} \\n\".format(t, volt))\n",
    "fp.close()"
   ]
  },
  {
   "cell_type": "code",
   "execution_count": null,
   "metadata": {
    "collapsed": false,
    "slideshow": {
     "slide_type": "fragment"
    }
   },
   "outputs": [],
   "source": [
    "fp = open('voltageTrace.txt','r')\n",
    "k = fp.read().splitlines()\n",
    "#print k\n",
    "for i in k:\n",
    "    tv = i.split(' ')\n",
    "    print tv[0], tv[1]"
   ]
  },
  {
   "cell_type": "markdown",
   "metadata": {
    "slideshow": {
     "slide_type": "slide"
    }
   },
   "source": [
    "### Bonus on slicing in Python"
   ]
  },
  {
   "cell_type": "code",
   "execution_count": null,
   "metadata": {
    "collapsed": false,
    "slideshow": {
     "slide_type": "fragment"
    }
   },
   "outputs": [],
   "source": [
    "print V[start:stop:step]\n",
    "\n",
    "print V[start:stop:-1] #Quick way to reverse a list\n",
    "print V[::-1] #Quick way to reverse a list\n",
    "\n",
    "x = range(1,100,2) # Quick way to get odd numbers\n",
    "print x"
   ]
  },
  {
   "cell_type": "markdown",
   "metadata": {
    "slideshow": {
     "slide_type": "fragment"
    }
   },
   "source": [
    "or"
   ]
  },
  {
   "cell_type": "code",
   "execution_count": null,
   "metadata": {
    "collapsed": false,
    "slideshow": {
     "slide_type": "fragment"
    }
   },
   "outputs": [],
   "source": [
    "x = range(100)\n",
    "print x[1::2]"
   ]
  },
  {
   "cell_type": "markdown",
   "metadata": {
    "slideshow": {
     "slide_type": "slide"
    }
   },
   "source": [
    "## Control Flow: Break statement"
   ]
  },
  {
   "cell_type": "code",
   "execution_count": null,
   "metadata": {
    "collapsed": false,
    "slideshow": {
     "slide_type": "fragment"
    }
   },
   "outputs": [],
   "source": [
    "i = 0\n",
    "while(i>=0):\n",
    "    i = i+1\n",
    "    if i==100:\n",
    "        break # Breaks out the current loop\n",
    "print i"
   ]
  },
  {
   "cell_type": "markdown",
   "metadata": {
    "slideshow": {
     "slide_type": "slide"
    }
   },
   "source": [
    "## Let's go back and see if we got the correct $\\tau$"
   ]
  },
  {
   "cell_type": "markdown",
   "metadata": {
    "slideshow": {
     "slide_type": "subslide"
    }
   },
   "source": [
    "$\\tau = RC$, and is defined as the time in which V drops by $\\frac{1}{e}$ of $V_0$"
   ]
  },
  {
   "cell_type": "code",
   "execution_count": null,
   "metadata": {
    "collapsed": false,
    "slideshow": {
     "slide_type": "fragment"
    }
   },
   "outputs": [],
   "source": [
    "import numpy as np # A very powerful numerical manipulation library for Python\n",
    "\n",
    "for x,tau in zip(V,t_): #for loop iterates through elements in a list - here x is first assigned 0, then 1 and then 2\n",
    "    if x < V0*(1/np.exp(1)):\n",
    "        break\n",
    "print x, tau, R*C"
   ]
  },
  {
   "cell_type": "markdown",
   "metadata": {
    "slideshow": {
     "slide_type": "slide"
    }
   },
   "source": [
    "## Functions"
   ]
  },
  {
   "cell_type": "markdown",
   "metadata": {
    "slideshow": {
     "slide_type": "subslide"
    }
   },
   "source": [
    "### Functions are blocks of organized code for a specific action"
   ]
  },
  {
   "cell_type": "code",
   "execution_count": null,
   "metadata": {
    "collapsed": false,
    "slideshow": {
     "slide_type": "fragment"
    }
   },
   "outputs": [],
   "source": [
    "def add(a, b): # A function to add 2 numbers\n",
    "    \"\"\"Add two arguments.\n",
    "    Returns: sum of ‘a‘ and ‘b‘\"\"\" # Docstring for the function specifies what it does, and whatever else that may be important.\n",
    "    print 'a=', a, 'b=', b\n",
    "    return a + b"
   ]
  },
  {
   "cell_type": "markdown",
   "metadata": {
    "slideshow": {
     "slide_type": "subslide"
    }
   },
   "source": [
    "#### Try the following in your console"
   ]
  },
  {
   "cell_type": "code",
   "execution_count": null,
   "metadata": {
    "collapsed": false,
    "slideshow": {
     "slide_type": "fragment"
    }
   },
   "outputs": [],
   "source": [
    "print add('hello', 'CAMPers')\n",
    "print add(2, 1)\n",
    "\n",
    "help(add)"
   ]
  },
  {
   "cell_type": "markdown",
   "metadata": {
    "slideshow": {
     "slide_type": "slide"
    }
   },
   "source": [
    "### Take the membrane RC circuit example, and define a function for calculating $\\frac{dV}{dt}$. \n",
    "* Can you use a function to calculate the Vm."
   ]
  },
  {
   "cell_type": "code",
   "execution_count": null,
   "metadata": {
    "collapsed": false,
    "slideshow": {
     "slide_type": "fragment"
    }
   },
   "outputs": [],
   "source": [
    "def dvdt(v, R, C):\n",
    "    return -v / (R * C) "
   ]
  },
  {
   "cell_type": "markdown",
   "metadata": {
    "slideshow": {
     "slide_type": "subslide"
    }
   },
   "source": [
    "#### You can give default values for variables of a function at the time of definition."
   ]
  },
  {
   "cell_type": "code",
   "execution_count": null,
   "metadata": {
    "collapsed": false,
    "slideshow": {
     "slide_type": "fragment"
    }
   },
   "outputs": [],
   "source": [
    "def dvdt(Vm, Rm=1e4, Cm=1e-3):\n",
    "    print 'Vm =', Vm, 'Rm =', Rm, 'Cm =', Cm\n",
    "    return -Vm / (Rm * Cm)\n",
    "\n",
    "dvdt(50.0)\n",
    "dvdt(50.0, 1e5)"
   ]
  },
  {
   "cell_type": "markdown",
   "metadata": {
    "slideshow": {
     "slide_type": "fragment"
    }
   },
   "source": [
    "#### No need to remember positions, you can use the names of variables."
   ]
  },
  {
   "cell_type": "code",
   "execution_count": null,
   "metadata": {
    "collapsed": false,
    "slideshow": {
     "slide_type": "fragment"
    }
   },
   "outputs": [],
   "source": [
    "dvdt(1.0, Cm=1e-4)"
   ]
  },
  {
   "cell_type": "markdown",
   "metadata": {
    "slideshow": {
     "slide_type": "slide"
    }
   },
   "source": [
    "## Classes"
   ]
  },
  {
   "cell_type": "markdown",
   "metadata": {
    "slideshow": {
     "slide_type": "fragment"
    }
   },
   "source": [
    "### A class is used for defining fancy data types. \n",
    "* Data with structure (fields)\n",
    "* Functions specific to this data type (methods)"
   ]
  },
  {
   "cell_type": "code",
   "execution_count": 16,
   "metadata": {
    "collapsed": false,
    "slideshow": {
     "slide_type": "subslide"
    }
   },
   "outputs": [
    {
     "name": "stdout",
     "output_type": "stream",
     "text": [
      "labrador\n",
      "12\n",
      "labrador\n",
      "3\n",
      "black-white\n",
      "hoo!\n",
      "woof\n",
      "Rajat\n",
      "woof\n",
      "woof\n"
     ]
    }
   ],
   "source": [
    "class dog: # A conceptual grouping\n",
    "    def __init__(self,breed,age,color):\n",
    "        self.pedigree = breed\n",
    "        self.age = age\n",
    "        self.color = color\n",
    "    \n",
    "    def bark(self):\n",
    "        if self.age<5:\n",
    "            print \"woof\"\n",
    "        else:\n",
    "            print \"hoo!\"\n",
    "\n",
    "class domesticated_dog(dog):\n",
    "    def __init__(self,owner,*args):\n",
    "        self.owner = owner\n",
    "        dog.__init__(self,*args)\n",
    "        \n",
    "    def bark(self):\n",
    "        dog.bark(self)\n",
    "        dog.bark(self)\n",
    "\n",
    "if __name__==\"__main__\":\n",
    "    pabby = dog('labrador',12,'black')\n",
    "    print pabby.pedigree\n",
    "    print pabby.age\n",
    "    rompy = dog('labrador',3,'black-white')\n",
    "    print rompy.pedigree\n",
    "    print rompy.age\n",
    "    print rompy.color\n",
    "    pabby.bark()\n",
    "    rompy.bark()\n",
    "    \n",
    "    tuffy = domesticated_dog('Rajat','Terrier',2,'white')\n",
    "    print mimi.owner\n",
    "    tuffy.bark()"
   ]
  },
  {
   "cell_type": "code",
   "execution_count": 46,
   "metadata": {
    "collapsed": false,
    "slideshow": {
     "slide_type": "subslide"
    }
   },
   "outputs": [],
   "source": [
    "class PassiveComp(object):\n",
    "    \"\"\"Class implementing passive compartment.\"\"\"\n",
    "    \n",
    "    def __init__(self, Vm=-65.0, Rm=1e4, Cm=1e-3):\n",
    "        self.Vm = Vm\n",
    "        self.Rm = Rm\n",
    "        self.Cm = Cm\n",
    "        self.currentT = 0.0\n",
    "        \n",
    "    def update_vm(self, simt, dt=1e-3):\n",
    "        \"\"\"Calculate Vm at time t using time step dt\"\"\"\n",
    "        t = 0.\n",
    "        while t < simt:\n",
    "            Vdot = -(self.Vm / (self.Rm * self.Cm) )\n",
    "            self.Vm = self.Vm + (Vdot * dt)\n",
    "            t = t + dt\n",
    "        self.currentT += t\n",
    "        "
   ]
  },
  {
   "cell_type": "markdown",
   "metadata": {
    "slideshow": {
     "slide_type": "subslide"
    }
   },
   "source": [
    "### Use your class to compute $V_m$ at specified time"
   ]
  },
  {
   "cell_type": "code",
   "execution_count": 48,
   "metadata": {
    "collapsed": false,
    "slideshow": {
     "slide_type": "fragment"
    }
   },
   "outputs": [
    {
     "name": "stdout",
     "output_type": "stream",
     "text": [
      "nan\n"
     ]
    }
   ],
   "source": [
    "if __name__ == '__main__':\n",
    "    mycomp = PassiveComp(50.0, Rm, Cm)\n",
    "    mycomp.update_vm(50.0, 0.1)\n",
    "    print mycomp.Vm"
   ]
  },
  {
   "cell_type": "markdown",
   "metadata": {
    "slideshow": {
     "slide_type": "slide"
    }
   },
   "source": [
    "## Modules and imports\n",
    "* Reusable code can be organized into modules.\n",
    "* Many builtin and third-party modules freely available.\n",
    "* You've already seen numpy and matplotlib in action"
   ]
  },
  {
   "cell_type": "code",
   "execution_count": 38,
   "metadata": {
    "collapsed": false,
    "slideshow": {
     "slide_type": "subslide"
    }
   },
   "outputs": [
    {
     "name": "stdout",
     "output_type": "stream",
     "text": [
      "The Zen of Python, by Tim Peters\n",
      "\n",
      "Beautiful is better than ugly.\n",
      "Explicit is better than implicit.\n",
      "Simple is better than complex.\n",
      "Complex is better than complicated.\n",
      "Flat is better than nested.\n",
      "Sparse is better than dense.\n",
      "Readability counts.\n",
      "Special cases aren't special enough to break the rules.\n",
      "Although practicality beats purity.\n",
      "Errors should never pass silently.\n",
      "Unless explicitly silenced.\n",
      "In the face of ambiguity, refuse the temptation to guess.\n",
      "There should be one-- and preferably only one --obvious way to do it.\n",
      "Although that way may not be obvious at first unless you're Dutch.\n",
      "Now is better than never.\n",
      "Although never is often better than *right* now.\n",
      "If the implementation is hard to explain, it's a bad idea.\n",
      "If the implementation is easy to explain, it may be a good idea.\n",
      "Namespaces are one honking great idea -- let's do more of those!\n"
     ]
    }
   ],
   "source": [
    "import this"
   ]
  },
  {
   "cell_type": "markdown",
   "metadata": {
    "slideshow": {
     "slide_type": "slide"
    }
   },
   "source": [
    "### Numpy:\n",
    "\n",
    "* Core of numerical computing in python\n",
    "* Provides efficient arrays and matrix operations"
   ]
  },
  {
   "cell_type": "code",
   "execution_count": 39,
   "metadata": {
    "collapsed": false,
    "slideshow": {
     "slide_type": "subslide"
    }
   },
   "outputs": [
    {
     "name": "stdout",
     "output_type": "stream",
     "text": [
      "[ 1.  4.  9.]\n",
      "14.0\n",
      "[ 0.  0.  0.]\n"
     ]
    }
   ],
   "source": [
    "#### Try this\n",
    "import numpy as np\n",
    "a = np.array([1, 2, 3.0])\n",
    "b = np.r_[1, 2, 3.0] # shorthand\n",
    "\n",
    "print a * b\n",
    "print np.dot(a, b)\n",
    "print np.cross(a,b)"
   ]
  },
  {
   "cell_type": "markdown",
   "metadata": {
    "slideshow": {
     "slide_type": "subslide"
    }
   },
   "source": [
    "#### Counterpart of range is arange(start, stop, step)."
   ]
  },
  {
   "cell_type": "code",
   "execution_count": 41,
   "metadata": {
    "collapsed": false,
    "slideshow": {
     "slide_type": "fragment"
    }
   },
   "outputs": [
    {
     "name": "stdout",
     "output_type": "stream",
     "text": [
      "[ -1.00000000e+00  -9.00000000e-01  -8.00000000e-01  -7.00000000e-01\n",
      "  -6.00000000e-01  -5.00000000e-01  -4.00000000e-01  -3.00000000e-01\n",
      "  -2.00000000e-01  -1.00000000e-01  -2.22044605e-16   1.00000000e-01\n",
      "   2.00000000e-01   3.00000000e-01   4.00000000e-01   5.00000000e-01\n",
      "   6.00000000e-01   7.00000000e-01   8.00000000e-01   9.00000000e-01]\n"
     ]
    }
   ],
   "source": [
    "v = np.arange(-1, 1, 0.1)\n",
    "print v"
   ]
  },
  {
   "cell_type": "markdown",
   "metadata": {
    "slideshow": {
     "slide_type": "fragment"
    }
   },
   "source": [
    "#### To split a range into N points"
   ]
  },
  {
   "cell_type": "code",
   "execution_count": 42,
   "metadata": {
    "collapsed": false,
    "slideshow": {
     "slide_type": "fragment"
    }
   },
   "outputs": [
    {
     "name": "stdout",
     "output_type": "stream",
     "text": [
      "[-1.         -0.89473684 -0.78947368 -0.68421053 -0.57894737 -0.47368421\n",
      " -0.36842105 -0.26315789 -0.15789474 -0.05263158  0.05263158  0.15789474\n",
      "  0.26315789  0.36842105  0.47368421  0.57894737  0.68421053  0.78947368\n",
      "  0.89473684  1.        ]\n"
     ]
    }
   ],
   "source": [
    "# Make another array with same length as v\n",
    "w = np.linspace(-1, 1, len(v))\n",
    "print w"
   ]
  },
  {
   "cell_type": "code",
   "execution_count": 43,
   "metadata": {
    "collapsed": true,
    "slideshow": {
     "slide_type": "subslide"
    }
   },
   "outputs": [],
   "source": [
    "# Create a 10x3 array filled with zero\n",
    "z = np.zeros((10, 3))\n",
    "# Create a 5x10 array filled with one\n",
    "x = np.ones((5, 10))"
   ]
  },
  {
   "cell_type": "markdown",
   "metadata": {
    "slideshow": {
     "slide_type": "fragment"
    }
   },
   "source": [
    "Can you create an array filled with $\\pi$?"
   ]
  },
  {
   "cell_type": "markdown",
   "metadata": {
    "slideshow": {
     "slide_type": "subslide"
    }
   },
   "source": [
    "#### Generating random numbers"
   ]
  },
  {
   "cell_type": "code",
   "execution_count": null,
   "metadata": {
    "collapsed": true,
    "slideshow": {
     "slide_type": "fragment"
    }
   },
   "outputs": [],
   "source": [
    "a = np.random.uniform(size=(10,10))"
   ]
  },
  {
   "cell_type": "markdown",
   "metadata": {
    "slideshow": {
     "slide_type": "subslide"
    }
   },
   "source": [
    "#### Indexing in numpy arrays"
   ]
  },
  {
   "cell_type": "code",
   "execution_count": null,
   "metadata": {
    "collapsed": true,
    "slideshow": {
     "slide_type": "fragment"
    }
   },
   "outputs": [],
   "source": [
    "a = np.zeros((5, 5))\n",
    "a[:,2] = 1.0\n",
    "a[2,:] = 2.0"
   ]
  },
  {
   "cell_type": "code",
   "execution_count": null,
   "metadata": {
    "collapsed": true,
    "slideshow": {
     "slide_type": "fragment"
    }
   },
   "outputs": [],
   "source": [
    "\n",
    "a[a < 0.2] = 0.0\n",
    "a[(a > 0.3) | (a < 0.7)] = 2"
   ]
  },
  {
   "cell_type": "markdown",
   "metadata": {
    "slideshow": {
     "slide_type": "subslide"
    }
   },
   "source": [
    "#### More at https://docs.scipy.org/doc/numpy-dev/user/quickstart.html"
   ]
  },
  {
   "cell_type": "markdown",
   "metadata": {
    "slideshow": {
     "slide_type": "subslide"
    }
   },
   "source": [
    "#### Other cool modules to check out:\n",
    "* scipy: Scientific Python library based on numpy.\n",
    "* scikit-learn: Machine learning.\n",
    "* seaborn: Fancy plotting library based on matplotlib.\n",
    "* pandas: Statistics, based on numpy"
   ]
  },
  {
   "cell_type": "markdown",
   "metadata": {
    "slideshow": {
     "slide_type": "subslide"
    }
   },
   "source": [
    "#### Finishing with a raster plot"
   ]
  },
  {
   "cell_type": "code",
   "execution_count": 44,
   "metadata": {
    "collapsed": false,
    "slideshow": {
     "slide_type": "fragment"
    }
   },
   "outputs": [
    {
     "data": {
      "image/png": "[encoded data removed]",
      "text/plain": [
       "<matplotlib.figure.Figure at 0x7f632d551c50>"
      ]
     },
     "metadata": {},
     "output_type": "display_data"
    }
   ],
   "source": [
    "import numpy as np\n",
    "from matplotlib import pyplot as plt\n",
    "\n",
    "spike_times = np.random.rand(100, 5)\n",
    "#print spike_timesw\n",
    "for ii, spike_train in enumerate(spike_times):\n",
    "    y = np.ones(spike_train.shape[0])*ii\n",
    "    plt.plot(spike_train, y, 'k|')\n",
    "plt.savefig('rasterplot.png')"
   ]
  }
 ],
 "metadata": {
  "celltoolbar": "Slideshow",
  "kernelspec": {
   "display_name": "Python 2",
   "language": "python",
   "name": "python2"
  },
  "language_info": {
   "codemirror_mode": {
    "name": "ipython",
    "version": 2
   },
   "file_extension": ".py",
   "mimetype": "text/x-python",
   "name": "python",
   "nbconvert_exporter": "python",
   "pygments_lexer": "ipython2",
   "version": "2.7.6"
  }
 },
 "nbformat": 4,
 "nbformat_minor": 0
}
