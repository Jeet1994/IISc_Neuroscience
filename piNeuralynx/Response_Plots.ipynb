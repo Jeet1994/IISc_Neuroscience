{
 "cells": [
  {
   "cell_type": "code",
   "execution_count": null,
   "metadata": {
    "collapsed": true
   },
   "outputs": [],
   "source": [
    "import lynxio\n",
    "import matplotlib.pyplot as plt\n",
    "import numpy as np\n",
    "import os\n",
    "from math import log10"
   ]
  },
  {
   "cell_type": "code",
   "execution_count": null,
   "metadata": {
    "collapsed": true
   },
   "outputs": [],
   "source": [
    "def fft(y, fs=30000):\n",
    "    \"\"\" Get the FFT of a given signal and corresponding frequency bins.\n",
    "    Parameters:\n",
    "        y  - signal\n",
    "        fs - sampling frequency\n",
    "    Returns:\n",
    "        (mag, freq) - tuple of spectrum magitude and corresponding frequencies\n",
    "    \"\"\"\n",
    "    n  = len(y)      # Get the signal length\n",
    "    dt = 1/float(fs) # Get time resolution\n",
    "\n",
    "    fft_output = np.fft.rfft(y)     # Perform real fft\n",
    "    rfreqs = np.fft.rfftfreq(n, dt) # Calculatel frequency bins\n",
    "    fft_mag = np.abs(fft_output)    # Take only magnitude of spectrum\n",
    "\n",
    "    # Normalize the amplitude by number of bins and multiply by 2\n",
    "    # because we removed second half of spectrum above the Nyqist frequency \n",
    "    # and energy must be preserved\n",
    "    fft_mag = fft_mag * 2 / n           \n",
    "\n",
    "    #np.array(fft_mag), np.array(rfreqs) \n",
    "    plt.plot(rfreqs, fft_mag)"
   ]
  },
  {
   "cell_type": "code",
   "execution_count": null,
   "metadata": {
    "collapsed": true
   },
   "outputs": [],
   "source": [
    "def fft2(y, fs=30000, f):\n",
    "    Ts = 1.0/Fs; # sampling interval\n",
    "    t = np.arange(0,1,Ts) # time vector\n",
    "\n",
    "    n = len(y) # length of the signal\n",
    "    k = np.arange(n)\n",
    "    T = n/Fs\n",
    "    frq = k/T # two sides frequency range\n",
    "    frq = frq[range(n/2)] # one side frequency range\n",
    "\n",
    "    Y = np.fft.fft(y)/n # fft computing and normalization\n",
    "    Y = Y[range(n/2)]\n",
    "    \n",
    "    plt.plot(frq,abs(Y))"
   ]
  },
  {
   "cell_type": "code",
   "execution_count": null,
   "metadata": {
    "collapsed": true
   },
   "outputs": [],
   "source": [
    "count = 1;\n",
    "plt.figure(figsize=(30,17))\n",
    "for filename in os.listdir(os.getcwd()):\n",
    "    if filename.endswith(\".ncs\") and filename.startswith(\"CSC\"): \n",
    "        channelname = filename.split('.')[0]\n",
    "        plotname = channelname +'FFT.png'\n",
    "                \n",
    "        csc = lynxio.loadNcs(filename)\n",
    "        eventTimestamps, eventId, nttl, eventNames = lynxio.loadNev('Events.nev')\n",
    "        print eventNames\n",
    "        \n",
    "        datapointsbaseline = lynxio.fileSplitterUsingEvents(csc, eventTimestamps[1], eventNames[1], eventTimestamps[2], eventNames[2])[0:229888]\n",
    "        datapoints1e1hz = lynxio.fileSplitterUsingEvents(csc, eventTimestamps[3], eventNames[3], eventTimestamps[4], eventNames[4])[0:229888]     \n",
    "        datapoints3hz = lynxio.fileSplitterUsingEvents(csc, eventTimestamps[5], eventNames[5], eventTimestamps[6], eventNames[6])[0:229888]   \n",
    "        datapoints8hz = lynxio.fileSplitterUsingEvents(csc, eventTimestamps[7], eventNames[7], eventTimestamps[8], eventNames[8])[0:229888]\n",
    "        datapoints30hz = lynxio.fileSplitterUsingEvents(csc, eventTimestamps[9], eventNames[9], eventTimestamps[10], eventNames[10])[0:229888]\n",
    "        datapoints100hz = lynxio.fileSplitterUsingEvents(csc, eventTimestamps[11], eventNames[11], eventTimestamps[12], eventNames[12])[0:229888]\n",
    "        datapoints1khz = lynxio.fileSplitterUsingEvents(csc, eventTimestamps[13], eventNames[13], eventTimestamps[14], eventNames[14])[0:229888]\n",
    "        datapoints5khz = lynxio.fileSplitterUsingEvents(csc, eventTimestamps[15], eventNames[15], eventTimestamps[16], eventNames[16])[0:229888]\n",
    "        datapoints9khz = lynxio.fileSplitterUsingEvents(csc, eventTimestamps[17], eventNames[17], eventTimestamps[18], eventNames[18])[0:229888]    \n",
    "        datapoints15khz = lynxio.fileSplitterUsingEvents(csc, eventTimestamps[19], eventNames[19], eventTimestamps[20], eventNames[20])[0:30000]\n",
    "        baselinepostFFT = fft(datapointsbaseline)\n",
    "        \n",
    "        data = [fft(datapoints1e1hz), fft(datapoints3hz), fft(datapoints8hz) , fft(datapoints30hz) , fft(datapoints100hz),\n",
    "                   fft(datapoints1khz), fft(datapoints5khz), fft(datapoints9khz), fft(datapoints15khz)]\n",
    "        \n",
    "        x=[log10(0.1),log10(3),log10(8),log10(30),log10(100),log10(1000),log10(5000),log10(9000), log10(15000)]\n",
    "        labels = ['0.1','3','8','30','100','1000', '5000', '9000', '15000']\n",
    "        \n",
    "        plt.subplot(4,4,count)\n",
    "        plt.xticks(x, labels, fontsize = 16, fontweight = 'bold',rotation = 90)\n",
    "        plt.yticks(fontsize = 16, fontweight = 'bold')\n",
    "        plt.ylabel('Amplitude(uV) after norm',fontsize = 10, fontweight = 'bold')\n",
    "        plt.xlabel('Log Freq(hz)',fontsize = 10, fontweight = 'bold')\n",
    "        plt.axhline(y=baselinepostFFT, xmin=0, xmax=10, hold=None, color='red')\n",
    "        plt.plot(x,data, 'b--o')\n",
    "        count = count +1\n",
    "\n",
    "plotname = 'all plots.png'\n",
    "plt.savefig(plotname)\n",
    "plt.close()"
   ]
  }
 ],
 "metadata": {
  "kernelspec": {
   "display_name": "Python 2",
   "language": "python",
   "name": "python2"
  },
  "language_info": {
   "codemirror_mode": {
    "name": "ipython",
    "version": 2
   },
   "file_extension": ".py",
   "mimetype": "text/x-python",
   "name": "python",
   "nbconvert_exporter": "python",
   "pygments_lexer": "ipython2",
   "version": "2.7.6"
  }
 },
 "nbformat": 4,
 "nbformat_minor": 0
}
