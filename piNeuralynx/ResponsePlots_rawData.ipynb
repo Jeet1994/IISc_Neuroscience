{
 "cells": [
  {
   "cell_type": "code",
   "execution_count": null,
   "metadata": {
    "collapsed": true
   },
   "outputs": [],
   "source": [
    "from lynxio import fileSplitterUsingEvents\n",
    "import matplotlib.pyplot as plt\n",
    "import scipy.io as sio\n",
    "import numpy as np\n",
    "import os\n",
    "from math import log10\n",
    "%matplotlib inline"
   ]
  },
  {
   "cell_type": "code",
   "execution_count": null,
   "metadata": {
    "collapsed": false
   },
   "outputs": [],
   "source": [
    "for filename in os.listdir(os.getcwd()):\n",
    "    if filename.endswith(\".ncs\") and filename.startswith(\"CSC\"): \n",
    "        channelname = filename.split('.')[0]\n",
    "        plotname = channelname +'FFT.png'\n",
    "                \n",
    "        csc = lynxio.loadNcs(filename)\n",
    "        eventTimestamps, eventId, nttl, eventNames = lynxio.loadNev('Events.nev')\n",
    "        \n",
    "        datapointsbaseline = fileSplitterUsingEvents(csc, eventTimestamps[1], eventNames[1], eventTimestamps[2], eventNames[2])\n",
    "        datapoints1e1hz = fileSplitterUsingEvents(csc, eventTimestamps[3], eventNames[3], eventTimestamps[4], eventNames[4])    \n",
    "        datapoints3hz = fileSplitterUsingEvents(csc, eventTimestamps[5], eventNames[5], eventTimestamps[6], eventNames[6])  \n",
    "        datapoints8hz = fileSplitterUsingEvents(csc, eventTimestamps[7], eventNames[7], eventTimestamps[8], eventNames[8])\n",
    "        datapoints30hz = fileSplitterUsingEvents(csc, eventTimestamps[9], eventNames[9], eventTimestamps[10], eventNames[10])\n",
    "        datapoints100hz = fileSplitterUsingEvents(csc, eventTimestamps[11], eventNames[11], eventTimestamps[12], eventNames[12])\n",
    "        datapoints1khz = fileSplitterUsingEvents(csc, eventTimestamps[13], eventNames[13], eventTimestamps[14], eventNames[14])\n",
    "        datapoints5khz = fileSplitterUsingEvents(csc, eventTimestamps[15], eventNames[15], eventTimestamps[16], eventNames[16])\n",
    "        datapoints9khz = fileSplitterUsingEvents(csc, eventTimestamps[17], eventNames[17], eventTimestamps[18], eventNames[18])    \n",
    "        datapoints15khz = fileSplitterUsingEvents(csc, eventTimestamps[19], eventNames[19], eventTimestamps[20], eventNames[20])\n",
    "        \n",
    "        min_length = min(len(datapointsbaseline), len(datapoints1e1hz), len(datapoints3hz),  len(datapoints8hz),  len(datapoints30hz),  len(datapoints100hz),  len(datapoints1khz), len(datapoints5khz),  len(datapoints9khz),  len(datapoints15khz))\n",
    "        \n",
    "        datapointsbaseline = datapointsbaseline[:min_length]\n",
    "        datapoints1e1hz = datapoints1e1hz[:min_length]\n",
    "        datapoints3hz = datapoints3hz[:min_length]\n",
    "        datapoints8hz = datapoints8hz[:min_length]\n",
    "        datapoints30hz = datapoints30hz[:min_length]\n",
    "        datapoints100hz = datapoints100hz[:min_length]\n",
    "        datapoints1khz = datapoints1khz[:min_length]\n",
    "        datapoints5khz = datapoints5khz[:min_length]\n",
    "        datapoints9khz = datapoints9khz[:min_length]\n",
    "        datapoints15khz = datapoints15khz[:min_length]\n",
    "        \n",
    "        \n",
    "        sio.savemat(channelname + '_data.mat', {'datapointsbaseline':datapointsbaseline, 'datapoints1e1hz':datapoints1e1hz, 'datapoints3hz':datapoints3hz, 'datapoints8hz':datapoints8hz, 'datapoints30hz':datapoints30hz, 'datapoints100hz':datapoints100hz, 'datapoints1khz':datapoints1khz, 'datapoints5khz':datapoints5khz, 'datapoints9khz':datapoints9khz, 'datapoints15khz':datapoints15khz})"
   ]
  }
 ],
 "metadata": {
  "anaconda-cloud": {},
  "kernelspec": {
   "display_name": "Python [Root]",
   "language": "python",
   "name": "Python [Root]"
  },
  "language_info": {
   "codemirror_mode": {
    "name": "ipython",
    "version": 2
   },
   "file_extension": ".py",
   "mimetype": "text/x-python",
   "name": "python",
   "nbconvert_exporter": "python",
   "pygments_lexer": "ipython2",
   "version": "2.7.12"
  }
 },
 "nbformat": 4,
 "nbformat_minor": 0
}
