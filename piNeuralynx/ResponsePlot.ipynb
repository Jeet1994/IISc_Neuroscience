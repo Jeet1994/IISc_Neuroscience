{
 "cells": [
  {
   "cell_type": "code",
   "execution_count": null,
   "metadata": {
    "collapsed": true
   },
   "outputs": [],
   "source": [
    "from lynxio import *\n",
    "import matplotlib.pyplot as plt\n",
    "import scipy.io as sio\n",
    "import numpy as np\n",
    "import os\n",
    "from math import log10\n",
    "%matplotlib inline"
   ]
  },
  {
   "cell_type": "code",
   "execution_count": null,
   "metadata": {
    "collapsed": true
   },
   "outputs": [],
   "source": [
    "def custom_fft(datapoints, frequency, Fs=30000.0):\n",
    "    \n",
    "    #constants \n",
    "    fs = Fs\n",
    "    N = float(len(datapoints))\n",
    "    \n",
    "    #fourier transform\n",
    "    X = np.fft.fftshift(np.fft.fft2(datapoints)) ##fft2: 2d discrete fourier transform\n",
    "    \n",
    "    #frequency specification\n",
    "    dF = fs/N\n",
    "    print -fs/2, fs/2-dF\n",
    "    f = np.arange(-fs/2, fs/2-dF, dF)\n",
    "    \n",
    "    X =X[:len(f)] #small hack for length adjustment\n",
    "    \n",
    "    #plotting the spectrum \n",
    "    plt.plot(f,np.abs(X)/N)\n",
    "    plt.xlabel('Frequency (in hertz)');\n",
    "    plt.title('Magnitude Response');\n",
    "   \n",
    "    return max(np.abs(X)/N)"
   ]
  },
  {
   "cell_type": "code",
   "execution_count": null,
   "metadata": {
    "collapsed": false
   },
   "outputs": [],
   "source": [
    "#To-Do: Add routine in script to read sampling rate from the data and pass it to custom FFT function\n",
    "\n",
    "\n",
    "plt.figure(figsize=(30,17))\n",
    "\n",
    "for filename in os.listdir(os.getcwd()):\n",
    "    if filename.endswith(\".ncs\") and filename.startswith(\"CSC\"): \n",
    "        channelname = filename.split('.')[0]\n",
    "        plotname = channelname +'FFT.png'\n",
    "                \n",
    "        csc = loadNcs(filename)\n",
    "        eventTimestamps, eventId, nttl, eventNames = loadNev('Events.nev')\n",
    "        \n",
    "        print eventNames\n",
    "        \n",
    "        datapointsbaseline = fileSplitterUsingEvents(csc, eventTimestamps[1], eventNames[1], eventTimestamps[2], eventNames[2])\n",
    "        datapoints1e1hz = fileSplitterUsingEvents(csc, eventTimestamps[3], eventNames[3], eventTimestamps[4], eventNames[4])    \n",
    "        datapoints3hz = fileSplitterUsingEvents(csc, eventTimestamps[5], eventNames[5], eventTimestamps[6], eventNames[6])  \n",
    "        datapoints8hz = fileSplitterUsingEvents(csc, eventTimestamps[7], eventNames[7], eventTimestamps[8], eventNames[8])\n",
    "        datapoints30hz = fileSplitterUsingEvents(csc, eventTimestamps[9], eventNames[9], eventTimestamps[10], eventNames[10])\n",
    "        datapoints100hz = fileSplitterUsingEvents(csc, eventTimestamps[11], eventNames[11], eventTimestamps[12], eventNames[12])\n",
    "        datapoints1khz = fileSplitterUsingEvents(csc, eventTimestamps[13], eventNames[13], eventTimestamps[14], eventNames[14])\n",
    "        datapoints5khz = fileSplitterUsingEvents(csc, eventTimestamps[15], eventNames[15], eventTimestamps[16], eventNames[16])\n",
    "        datapoints9khz = fileSplitterUsingEvents(csc, eventTimestamps[17], eventNames[17], eventTimestamps[18], eventNames[18])    \n",
    "        datapoints15khz = fileSplitterUsingEvents(csc, eventTimestamps[19], eventNames[19], eventTimestamps[20], eventNames[20])\n",
    "        \n",
    "        min_length = min(len(datapointsbaseline), len(datapoints1e1hz), len(datapoints3hz),  len(datapoints8hz),  len(datapoints30hz),  len(datapoints100hz),  len(datapoints1khz), len(datapoints5khz),  len(datapoints9khz),  len(datapoints15khz))\n",
    "        \n",
    "        datapointsbaseline = datapointsbaseline[:min_length]\n",
    "        datapoints1e1hz = datapoints1e1hz[:min_length]\n",
    "        datapoints3hz = datapoints3hz[:min_length]\n",
    "        datapoints8hz = datapoints8hz[:min_length]\n",
    "        datapoints30hz = datapoints30hz[:min_length]\n",
    "        datapoints100hz = datapoints100hz[:min_length]\n",
    "        datapoints1khz = datapoints1khz[:min_length]\n",
    "        datapoints5khz = datapoints5khz[:min_length]\n",
    "        datapoints9khz = datapoints9khz[:min_length]\n",
    "        datapoints15khz = datapoints15khz[:min_length]\n",
    "        \n",
    "        #sio.savemat(channelname + '_data.mat', {'datapointsbaseline':datapointsbaseline, 'datapoints1e1hz':datapoints1e1hz, 'datapoints3hz':datapoints3hz, 'datapoints8hz':datapoints8hz, 'datapoints30hz':datapoints30hz, 'datapoints100hz':datapoints100hz, 'datapoints1khz':datapoints1khz, 'datapoints5khz':datapoints5khz, 'datapoints9khz':datapoints9khz, 'datapoints15khz':datapoints15khz})\n",
    "        \n",
    "        dataFFT = [custom_fft(datapoints1e1hz, 0.1), custom_fft(datapoints3hz, 3), custom_fft(datapoints8hz, 8), custom_fft(datapoints30hz, 30), custom_fft(datapoints100hz, 100), custom_fft(datapoints1khz, 1000), custom_fft(datapoints5khz, 5000), custom_fft(datapoints15khz, 15000)]\n",
    "        \n",
    "        baselinepostFFT = custom_fft(datapointsbaseline, 0) \n",
    "        \n",
    "        #plotting part\n",
    "        x=[log10(0.1),log10(3),log10(8),log10(30),log10(100),log10(1000),log10(5000),log10(9000), log10(15000)]\n",
    "        labels = ['0.1','3','8','30','100','1000', '5000', '9000', '15000']\n",
    "        plt.xticks(x, labels, fontsize = 16, fontweight = 'bold',rotation = 90)\n",
    "        plt.yticks(fontsize = 16, fontweight = 'bold')\n",
    "        plt.ylabel('Amplitude(uV) after norm',fontsize = 10, fontweight = 'bold')\n",
    "        plt.xlabel('Log Freq(hz)',fontsize = 10, fontweight = 'bold')\n",
    "        plt.axhline(y=baselinepostFFT, xmin=0, xmax=10, hold=None, color='red')\n",
    "        plt.plot(x,dataFFT, 'b--o')   \n",
    "        plt.savefig(plotname)\n",
    "        plt.close()\n",
    "        "
   ]
  }
 ],
 "metadata": {
  "anaconda-cloud": {},
  "kernelspec": {
   "display_name": "Python [Root]",
   "language": "python",
   "name": "Python [Root]"
  },
  "language_info": {
   "codemirror_mode": {
    "name": "ipython",
    "version": 2
   },
   "file_extension": ".py",
   "mimetype": "text/x-python",
   "name": "python",
   "nbconvert_exporter": "python",
   "pygments_lexer": "ipython2",
   "version": "2.7.12"
  }
 },
 "nbformat": 4,
 "nbformat_minor": 0
}
