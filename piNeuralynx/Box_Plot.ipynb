{
 "cells": [
  {
   "cell_type": "code",
   "execution_count": null,
   "metadata": {
    "collapsed": true
   },
   "outputs": [],
   "source": [
    "# -*- coding: utf-8 -*-\n",
    "import lynxio\n",
    "import fileSplitter\n",
    "import matplotlib.pyplot as plt\n",
    "import os     \n",
    "from math import log10"
   ]
  },
  {
   "cell_type": "code",
   "execution_count": null,
   "metadata": {
    "collapsed": true
   },
   "outputs": [],
   "source": [
    "for filename in os.listdir(os.getcwd()):\n",
    "    if filename.endswith(\".ncs\"): \n",
    "        channelname = filename.split('.')[0]\n",
    "        plotname = channelname +'BoxPlot.png'\n",
    "                \n",
    "        csc = lynxio.loadNcs(filename)\n",
    "        eventTimestamps, eventId, nttl, eventNames = lynxio.loadNev('Events.nev')\n",
    "        print eventNames\n",
    "        \n",
    "        datapointsbaseline = fileSplitter.fileSplitterUsingEvents(csc, eventTimestamps[1], eventNames[1], eventTimestamps[2], eventNames[2])       \n",
    "        datapoints1e1hz = fileSplitter.fileSplitterUsingEvents(csc, eventTimestamps[3], eventNames[3], eventTimestamps[4], eventNames[4])     \n",
    "        datapoints3hz = fileSplitter.fileSplitterUsingEvents(csc, eventTimestamps[5], eventNames[5], eventTimestamps[6], eventNames[6])\n",
    "        datapoints8hz = fileSplitter.fileSplitterUsingEvents(csc, eventTimestamps[7], eventNames[7], eventTimestamps[8], eventNames[8])\n",
    "        datapoints30hz = fileSplitter.fileSplitterUsingEvents(csc, eventTimestamps[9], eventNames[9], eventTimestamps[10], eventNames[10])\n",
    "        datapoints100hz = fileSplitter.fileSplitterUsingEvents(csc, eventTimestamps[11], eventNames[11], eventTimestamps[12], eventNames[12])\n",
    "        datapoints1khz = fileSplitter.fileSplitterUsingEvents(csc, eventTimestamps[13], eventNames[13], eventTimestamps[14], eventNames[14])\n",
    "        datapoints5khz = fileSplitter.fileSplitterUsingEvents(csc, eventTimestamps[15], eventNames[15], eventTimestamps[16], eventNames[16])      \n",
    "        datapoints9khz = fileSplitter.fileSplitterUsingEvents(csc, eventTimestamps[17], eventNames[17], eventTimestamps[18], eventNames[18])\n",
    "        datapoints15khz = fileSplitter.fileSplitterUsingEvents(csc, eventTimestamps[19], eventNames[19], eventTimestamps[20], eventNames[20])\n",
    "            \n",
    "        data = [datapointsbaseline, datapoints1e1hz,datapoints3hz,datapoints8hz, datapoints30hz,datapoints100hz,datapoints1khz,datapoints5khz,datapoints15khz]\n",
    "        \n",
    "        x=[log10(0.1),log10(3),log10(8),log10(30),log10(100),log10(1000),log10(5000),log10(9000)]#, log10(15000)]\n",
    "        labels = ['0.1','3','8','30','100','1000', '5000', '9000', '15000']\n",
    "        plt.boxplot(data)\n",
    "        plt.xticks(x, labels)\n",
    "        plt.xlabel('frequency(hz)')\n",
    "        plt.ylabel('Output voltage')\n",
    "        plt.savefig(plotname)\n",
    "        plt.close()"
   ]
  }
 ],
 "metadata": {
  "kernelspec": {
   "display_name": "Python 2",
   "language": "python",
   "name": "python2"
  },
  "language_info": {
   "codemirror_mode": {
    "name": "ipython",
    "version": 2
   },
   "file_extension": ".py",
   "mimetype": "text/x-python",
   "name": "python",
   "nbconvert_exporter": "python",
   "pygments_lexer": "ipython2",
   "version": "2.7.6"
  }
 },
 "nbformat": 4,
 "nbformat_minor": 0
}
