{
 "cells": [
  {
   "cell_type": "code",
   "execution_count": 8,
   "metadata": {
    "collapsed": true
   },
   "outputs": [],
   "source": [
    "import neuralynxio\n",
    "import os\n",
    "import scipy.io"
   ]
  },
  {
   "cell_type": "code",
   "execution_count": 9,
   "metadata": {
    "collapsed": false
   },
   "outputs": [],
   "source": [
    "for filename in os.listdir(os.getcwd()):\n",
    "    if filename.endswith(\".ncs\")and filename.startswith(\"CSC\"): \n",
    "        channelname = filename.split('.')[0]\n",
    "        \n",
    "        rawData = []\n",
    "        \n",
    "        csc = neuralynxio.load_ncs(filename)\n",
    "        \n",
    "        rawData.append(csc['data'])\n",
    "        header = csc['header']\n",
    "        samplingRate = float(csc['sampling_rate'])\n",
    "\n",
    "        scipy.io.savemat('_' + channelname + '_rawData.mat', mdict = {'rawData':rawData, 'samplingRate':samplingRate})"
   ]
  }
 ],
 "metadata": {
  "anaconda-cloud": {},
  "kernelspec": {
   "display_name": "Python [Root]",
   "language": "python",
   "name": "Python [Root]"
  },
  "language_info": {
   "codemirror_mode": {
    "name": "ipython",
    "version": 2
   },
   "file_extension": ".py",
   "mimetype": "text/x-python",
   "name": "python",
   "nbconvert_exporter": "python",
   "pygments_lexer": "ipython2",
   "version": "2.7.12"
  }
 },
 "nbformat": 4,
 "nbformat_minor": 0
}
