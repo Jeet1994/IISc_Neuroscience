{
 "cells": [
  {
   "cell_type": "code",
   "execution_count": 16,
   "metadata": {
    "collapsed": true
   },
   "outputs": [],
   "source": [
    "import neuralynxio\n",
    "import os\n",
    "import scipy.io"
   ]
  },
  {
   "cell_type": "code",
   "execution_count": 17,
   "metadata": {
    "collapsed": false
   },
   "outputs": [],
   "source": [
    "for filename in os.listdir(os.getcwd()):\n",
    "    if filename.endswith(\".ncs\")and filename.startswith(\"CSC\"): \n",
    "        channelname = filename.split('.')[0]\n",
    "        \n",
    "        rawData = []\n",
    "        \n",
    "        csc = neuralynxio.load_ncs(filename)\n",
    "        \n",
    "        rawData.append(csc['data'])\n",
    "\n",
    "        scipy.io.savemat('AnalogRat_Ir1000_t256_UPSonBattery_DedicatedGround_' + channelname + '_rawData.mat', mdict = {'rawData':rawData})"
   ]
  },
  {
   "cell_type": "code",
   "execution_count": null,
   "metadata": {
    "collapsed": true
   },
   "outputs": [],
   "source": []
  }
 ],
 "metadata": {
  "anaconda-cloud": {},
  "kernelspec": {
   "display_name": "Python [Root]",
   "language": "python",
   "name": "Python [Root]"
  },
  "language_info": {
   "codemirror_mode": {
    "name": "ipython",
    "version": 2
   },
   "file_extension": ".py",
   "mimetype": "text/x-python",
   "name": "python",
   "nbconvert_exporter": "python",
   "pygments_lexer": "ipython2",
   "version": "2.7.12"
  }
 },
 "nbformat": 4,
 "nbformat_minor": 0
}
